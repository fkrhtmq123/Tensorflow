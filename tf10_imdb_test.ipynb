{
  "nbformat": 4,
  "nbformat_minor": 0,
  "metadata": {
    "colab": {
      "name": "tf10_imdb_test.ipynb",
      "provenance": [],
      "collapsed_sections": [],
      "authorship_tag": "ABX9TyMNrywvETo/sKb80LXPm33e",
      "include_colab_link": true
    },
    "kernelspec": {
      "name": "python3",
      "display_name": "Python 3"
    },
    "accelerator": "GPU"
  },
  "cells": [
    {
      "cell_type": "markdown",
      "metadata": {
        "id": "view-in-github",
        "colab_type": "text"
      },
      "source": [
        "<a href=\"https://colab.research.google.com/github/fkrhtmq123/Tensorflow/blob/master/tf10_imdb_test.ipynb\" target=\"_parent\"><img src=\"https://colab.research.google.com/assets/colab-badge.svg\" alt=\"Open In Colab\"/></a>"
      ]
    },
    {
      "cell_type": "code",
      "metadata": {
        "id": "DvqKrtpq5Y7S",
        "colab_type": "code",
        "colab": {}
      },
      "source": [
        "\"\"\"\n",
        "  날짜 : 2020/08/20\n",
        "  이름 : 김동욱\n",
        "  내용 : RNN IMDB 텍스트 분석 실습하기\n",
        "\"\"\"\n",
        "from tensorflow.keras.preprocessing.text import Tokenizer\n",
        "from tensorflow.keras.preprocessing.sequence import pad_sequences\n",
        "from tensorflow.keras.utils import to_categorical\n",
        "from tensorflow.keras.datasets import imdb\n",
        "from tensorflow.keras.models import Sequential\n",
        "from tensorflow.keras.layers import Dense, Embedding, Flatten, SimpleRNN"
      ],
      "execution_count": 2,
      "outputs": []
    },
    {
      "cell_type": "code",
      "metadata": {
        "id": "0J0_aCcR68Pi",
        "colab_type": "code",
        "colab": {
          "base_uri": "https://localhost:8080/",
          "height": 53
        },
        "outputId": "4a8ecd33-2eb7-45d2-b2d6-9e3521410972"
      },
      "source": [
        "#데이터셋 로드하기\n",
        "(imdb_train_data, imdb_train_label), (imdb_test_data, imdb_test_label) = imdb.load_data(num_words=1000)"
      ],
      "execution_count": 3,
      "outputs": [
        {
          "output_type": "stream",
          "text": [
            "Downloading data from https://storage.googleapis.com/tensorflow/tf-keras-datasets/imdb.npz\n",
            "17465344/17464789 [==============================] - 0s 0us/step\n"
          ],
          "name": "stdout"
        }
      ]
    },
    {
      "cell_type": "code",
      "metadata": {
        "id": "Q44DmmD969z4",
        "colab_type": "code",
        "colab": {
          "base_uri": "https://localhost:8080/",
          "height": 127
        },
        "outputId": "91535ad6-5a8a-489d-c3c8-0241ac4eb675"
      },
      "source": [
        "#데이터셋 확인하기\n",
        "print(imdb_train_data.shape, imdb_train_label.shape)\n",
        "print(imdb_test_data.shape, imdb_test_label.shape)\n",
        "\n",
        "#시퀀스데이터 영어 문장으로 변환\n",
        "imdb_get_word_index = {}\n",
        "\n",
        "for word, value in imdb.get_word_index().items():\n",
        "    imdb_get_word_index[value] = word\n",
        "\n",
        "for w in imdb_train_data[0]:\n",
        "    print(imdb_get_word_index[w], end=' ')"
      ],
      "execution_count": 4,
      "outputs": [
        {
          "output_type": "stream",
          "text": [
            "(25000,) (25000,)\n",
            "(25000,) (25000,)\n",
            "Downloading data from https://storage.googleapis.com/tensorflow/tf-keras-datasets/imdb_word_index.json\n",
            "1646592/1641221 [==============================] - 0s 0us/step\n",
            "the as you with out themselves powerful and and their becomes and had and of lot from anyone to have after out atmosphere never more room and it so heart shows to years of every never going and help moments or of every and and movie except her was several of enough more with is now and film as you of and and unfortunately of you than him that with out themselves her get for was and of you movie sometimes movie that with scary but and to story wonderful that in seeing in character to of and and with heart had and they of here that with her serious to have does when from why what have and they is you that isn't one will very to as itself with other and in of seen over and for anyone of and br and to whether from than out themselves history he name half some br of and and was two most of mean for 1 any an and she he should is thought and but of script you not while history he heart to real at and but when from one bit then have two of script their with her and most that with wasn't to with and acting watch an for with and film want an "
          ],
          "name": "stdout"
        }
      ]
    },
    {
      "cell_type": "code",
      "metadata": {
        "id": "BwGoXbkV7DL_",
        "colab_type": "code",
        "colab": {
          "base_uri": "https://localhost:8080/",
          "height": 89
        },
        "outputId": "0a30f987-9ffe-41e5-99c7-f04ad8daf325"
      },
      "source": [
        "#데이터 전처리(데이터를 동일한 길이로 맞추기)\n",
        "print('패딩 전 : ', len(imdb_train_data[0]))\n",
        "print('패딩 전 : ', len(imdb_train_data[1]))\n",
        "\n",
        "pad_imdb_train_data = pad_sequences(imdb_train_data, maxlen=500, padding='pre')\n",
        "pad_imdb_test_data = pad_sequences(imdb_test_data, maxlen=500, padding='pre')\n",
        "\n",
        "print('패딩 후 : ', len(pad_imdb_train_data[0]))\n",
        "print('패딩 후 : ', len(pad_imdb_train_data[1]))"
      ],
      "execution_count": 5,
      "outputs": [
        {
          "output_type": "stream",
          "text": [
            "패딩 전 :  218\n",
            "패딩 전 :  189\n",
            "패딩 후 :  500\n",
            "패딩 후 :  500\n"
          ],
          "name": "stdout"
        }
      ]
    },
    {
      "cell_type": "code",
      "metadata": {
        "id": "Dlgso6JY7NWn",
        "colab_type": "code",
        "colab": {}
      },
      "source": [
        "#모델 구성하기\n",
        "model = Sequential()\n",
        "model.add(Embedding(input_dim=1000, output_dim=32))\n",
        "model.add(SimpleRNN(32, return_sequences=True))\n",
        "model.add(Dense(1, activation='sigmoid'))"
      ],
      "execution_count": 6,
      "outputs": []
    },
    {
      "cell_type": "code",
      "metadata": {
        "id": "PNLNX4U27PSw",
        "colab_type": "code",
        "colab": {}
      },
      "source": [
        "#모델 설정하기\n",
        "model.compile(optimizer='adam',\n",
        "              loss='binary_crossentropy',\n",
        "              metrics=['acc'])"
      ],
      "execution_count": 7,
      "outputs": []
    },
    {
      "cell_type": "code",
      "metadata": {
        "id": "IXdzWhMF7RNO",
        "colab_type": "code",
        "colab": {
          "base_uri": "https://localhost:8080/",
          "height": 395
        },
        "outputId": "34f72948-a834-4893-e793-75f0bd42e3a8"
      },
      "source": [
        "#모델 학습하기\n",
        "model.fit(pad_imdb_train_data, \n",
        "          imdb_train_label,\n",
        "          batch_size=32,\n",
        "          epochs=10,\n",
        "          validation_split=0.2)"
      ],
      "execution_count": 8,
      "outputs": [
        {
          "output_type": "stream",
          "text": [
            "Epoch 1/10\n",
            "625/625 [==============================] - 57s 90ms/step - loss: 0.6772 - acc: 0.5550 - val_loss: 0.6568 - val_acc: 0.5861\n",
            "Epoch 2/10\n",
            "625/625 [==============================] - 56s 90ms/step - loss: 0.6760 - acc: 0.5524 - val_loss: 0.6711 - val_acc: 0.5598\n",
            "Epoch 3/10\n",
            "625/625 [==============================] - 57s 90ms/step - loss: 0.6638 - acc: 0.5702 - val_loss: 0.6517 - val_acc: 0.5860\n",
            "Epoch 4/10\n",
            "625/625 [==============================] - 56s 90ms/step - loss: 0.6592 - acc: 0.5787 - val_loss: 0.6407 - val_acc: 0.6001\n",
            "Epoch 5/10\n",
            "625/625 [==============================] - 57s 91ms/step - loss: 0.6528 - acc: 0.5751 - val_loss: 0.6953 - val_acc: 0.5122\n",
            "Epoch 6/10\n",
            "625/625 [==============================] - 56s 89ms/step - loss: 0.6935 - acc: 0.5112 - val_loss: 0.6925 - val_acc: 0.5094\n",
            "Epoch 7/10\n",
            "625/625 [==============================] - 57s 90ms/step - loss: 0.6908 - acc: 0.5180 - val_loss: 0.6906 - val_acc: 0.5172\n",
            "Epoch 8/10\n",
            "625/625 [==============================] - 58s 93ms/step - loss: 0.6897 - acc: 0.5205 - val_loss: 0.6894 - val_acc: 0.5209\n",
            "Epoch 9/10\n",
            "625/625 [==============================] - 56s 90ms/step - loss: 0.6887 - acc: 0.5251 - val_loss: 0.6885 - val_acc: 0.5228\n",
            "Epoch 10/10\n",
            "625/625 [==============================] - 56s 90ms/step - loss: 0.6879 - acc: 0.5247 - val_loss: 0.6875 - val_acc: 0.5259\n"
          ],
          "name": "stdout"
        },
        {
          "output_type": "execute_result",
          "data": {
            "text/plain": [
              "<tensorflow.python.keras.callbacks.History at 0x7f6a40387f28>"
            ]
          },
          "metadata": {
            "tags": []
          },
          "execution_count": 8
        }
      ]
    },
    {
      "cell_type": "code",
      "metadata": {
        "id": "bQdtVwcu7Ste",
        "colab_type": "code",
        "colab": {
          "base_uri": "https://localhost:8080/",
          "height": 53
        },
        "outputId": "9c6a7cb3-5c21-4194-d59d-f44bffdfbec0"
      },
      "source": [
        "#모델 평가하기\n",
        "model.evaluate(pad_imdb_test_data, imdb_test_label)"
      ],
      "execution_count": 9,
      "outputs": [
        {
          "output_type": "stream",
          "text": [
            "782/782 [==============================] - 19s 24ms/step - loss: 0.6877 - acc: 0.5248\n"
          ],
          "name": "stdout"
        },
        {
          "output_type": "execute_result",
          "data": {
            "text/plain": [
              "[0.6876941323280334, 0.5247678160667419]"
            ]
          },
          "metadata": {
            "tags": []
          },
          "execution_count": 9
        }
      ]
    },
    {
      "cell_type": "code",
      "metadata": {
        "id": "BDS4C__g7YS_",
        "colab_type": "code",
        "colab": {}
      },
      "source": [
        "#예측하기(텍스트를 시퀀스 값으로 바꿔야 된다)\n",
        "sample_text = [[10, 116, 11, 17], [9, 6, 434, 4, 55]]\n",
        "result = model.predict(sample_text)\n",
        "result"
      ],
      "execution_count": null,
      "outputs": []
    }
  ]
}