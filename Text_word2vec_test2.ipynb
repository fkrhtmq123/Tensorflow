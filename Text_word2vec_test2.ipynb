{
  "nbformat": 4,
  "nbformat_minor": 0,
  "metadata": {
    "colab": {
      "name": "Text_word2vec_test2.ipynb",
      "provenance": [],
      "collapsed_sections": [],
      "authorship_tag": "ABX9TyMYCnOF+TsAwWN6Zdh3eEUy",
      "include_colab_link": true
    },
    "kernelspec": {
      "name": "python3",
      "display_name": "Python 3"
    },
    "accelerator": "GPU"
  },
  "cells": [
    {
      "cell_type": "markdown",
      "metadata": {
        "id": "view-in-github",
        "colab_type": "text"
      },
      "source": [
        "<a href=\"https://colab.research.google.com/github/fkrhtmq123/Tensorflow/blob/master/Text_word2vec_test2.ipynb\" target=\"_parent\"><img src=\"https://colab.research.google.com/assets/colab-badge.svg\" alt=\"Open In Colab\"/></a>"
      ]
    },
    {
      "cell_type": "code",
      "metadata": {
        "id": "w05GbIbpU0IF",
        "colab_type": "code",
        "colab": {}
      },
      "source": [
        "pip install konlpy"
      ],
      "execution_count": null,
      "outputs": []
    },
    {
      "cell_type": "code",
      "metadata": {
        "id": "_WiKmejnUY_2",
        "colab_type": "code",
        "colab": {}
      },
      "source": [
        "\"\"\"\n",
        "  날짜 : 2020/09/08\n",
        "  이름 : 김동욱\n",
        "  내용 : 한글 Word2vec 실습하기\n",
        "\"\"\"\n",
        "\n",
        "import codecs\n",
        "from konlpy.tag import Okt\n",
        "from gensim.models import word2vec"
      ],
      "execution_count": null,
      "outputs": []
    },
    {
      "cell_type": "code",
      "metadata": {
        "id": "PCdNp0a6VHDc",
        "colab_type": "code",
        "colab": {}
      },
      "source": [
        "# 구글 연동\n",
        "from google.colab import drive\n",
        "drive.mount('/content/drive')"
      ],
      "execution_count": null,
      "outputs": []
    },
    {
      "cell_type": "code",
      "metadata": {
        "id": "IN-tuQF9VnFc",
        "colab_type": "code",
        "colab": {}
      },
      "source": [
        "# 데이터 셋 로드\n",
        "f = codecs.open('/content/drive/My Drive/Tensorflow_works/data/ratings_train.txt', mode='r', encoding='utf-8')\n",
        "lines = f.read().splitlines()\n",
        "f.close()"
      ],
      "execution_count": null,
      "outputs": []
    },
    {
      "cell_type": "code",
      "metadata": {
        "id": "HjbMQUtVWBXS",
        "colab_type": "code",
        "colab": {}
      },
      "source": [
        " # 데이터 확인\n",
        " lines[99]"
      ],
      "execution_count": null,
      "outputs": []
    },
    {
      "cell_type": "code",
      "metadata": {
        "id": "t7P_QFkPWymc",
        "colab_type": "code",
        "colab": {
          "base_uri": "https://localhost:8080/",
          "height": 71
        },
        "outputId": "f6fc186f-1029-450b-e1d6-6f472fd54127"
      },
      "source": [
        "# 데이터 전처리\n",
        "ratings_train = []\n",
        "\n",
        "for line in lines:\n",
        "  data = line.split('\\t')\n",
        "\n",
        "  ratings_train.append(data)\n",
        "\n",
        "# header 정보 행 제거\n",
        "ratings_train = ratings_train[1:]\n",
        "\n",
        "docs = []\n",
        "for line in ratings_train:\n",
        "  docs.append(line[1])\n",
        "\n",
        "print(docs[0])\n",
        "print(docs[1])\n",
        "print(docs[99])"
      ],
      "execution_count": null,
      "outputs": [
        {
          "output_type": "stream",
          "text": [
            "아 더빙.. 진짜 짜증나네요 목소리\n",
            "흠...포스터보고 초딩영화줄....오버연기조차 가볍지 않구나\n",
            "설정이 재밌고 새로운 에피소드 내에서 메인 스토리도 차차 나오는게 재밌음\n"
          ],
          "name": "stdout"
        }
      ]
    },
    {
      "cell_type": "code",
      "metadata": {
        "id": "IVuaiuGEXlvj",
        "colab_type": "code",
        "colab": {
          "base_uri": "https://localhost:8080/",
          "height": 197
        },
        "outputId": "5765708c-0bf5-4fd9-f52b-c8122ab7d01f"
      },
      "source": [
        "# 데이터 형태소 분석\n",
        "okt = Okt()\n",
        "\n",
        "results = []\n",
        "\n",
        "for doc in docs:\n",
        "  okt_pos = okt.pos(doc, norm=True, stem=True)\n",
        "\n",
        "  #print(okt_pos)\n",
        "  row = []\n",
        "\n",
        "  for word in okt_pos:\n",
        "    row.append(word[0])\n",
        "  \n",
        "  results.append(row)\n",
        "\n",
        "print(results)"
      ],
      "execution_count": null,
      "outputs": [
        {
          "output_type": "stream",
          "text": [
            "IOPub data rate exceeded.\n",
            "The notebook server will temporarily stop sending output\n",
            "to the client in order to avoid crashing it.\n",
            "To change this limit, set the config variable\n",
            "`--NotebookApp.iopub_data_rate_limit`.\n",
            "\n",
            "Current values:\n",
            "NotebookApp.iopub_data_rate_limit=1000000.0 (bytes/sec)\n",
            "NotebookApp.rate_limit_window=3.0 (secs)\n",
            "\n"
          ],
          "name": "stderr"
        }
      ]
    },
    {
      "cell_type": "code",
      "metadata": {
        "id": "0MPc4kA6ZXcD",
        "colab_type": "code",
        "colab": {
          "base_uri": "https://localhost:8080/",
          "height": 35
        },
        "outputId": "89374e23-326a-49c2-dc77-8dd83181718b"
      },
      "source": [
        "# word2vec 모델 생성\n",
        "model = word2vec.Word2Vec(results)\n",
        "model"
      ],
      "execution_count": null,
      "outputs": [
        {
          "output_type": "execute_result",
          "data": {
            "text/plain": [
              "<gensim.models.word2vec.Word2Vec at 0x7f281e477550>"
            ]
          },
          "metadata": {
            "tags": []
          },
          "execution_count": 30
        }
      ]
    },
    {
      "cell_type": "code",
      "metadata": {
        "id": "lSslyjowaaTj",
        "colab_type": "code",
        "colab": {
          "base_uri": "https://localhost:8080/",
          "height": 109
        },
        "outputId": "05ba3229-84df-4e53-a36d-d933ed682b16"
      },
      "source": [
        "# 단어 연관성 확인\n",
        "rs1 = model.wv.most_similar(positive=['남자', '여배우'],\n",
        "                             negative=['배우'])\n",
        "\n",
        "rs2 = model.wv.most_similar(positive=['정우성', '조인성'])\n",
        "\n",
        "print('rs1 : ', rs1)\n",
        "print('rs2 : ', rs2)"
      ],
      "execution_count": null,
      "outputs": [
        {
          "output_type": "stream",
          "text": [
            "rs1 :  [('여자', 0.7998504638671875), ('여자애', 0.7005792856216431), ('꼬마', 0.6685579419136047), ('아빠', 0.6636590957641602), ('할아버지', 0.6538161039352417), ('고양이', 0.6500245332717896), ('몸매', 0.6442188024520874), ('엄마', 0.6373972296714783), ('아기', 0.6262283325195312), ('아저씨', 0.617821455001831)]\n",
            "rs2 :  [('스트립', 0.8941588401794434), ('김윤석', 0.8901017904281616), ('박예진', 0.8792407512664795), ('엄태웅', 0.8790397644042969), ('니콜슨', 0.8790092468261719), ('전도연', 0.8785085082054138), ('주진모', 0.8777081966400146), ('임수정', 0.8738270998001099), ('김혜수', 0.8735905885696411), ('김민준', 0.8729294538497925)]\n"
          ],
          "name": "stdout"
        },
        {
          "output_type": "stream",
          "text": [
            "/usr/local/lib/python3.6/dist-packages/gensim/matutils.py:737: FutureWarning: Conversion of the second argument of issubdtype from `int` to `np.signedinteger` is deprecated. In future, it will be treated as `np.int64 == np.dtype(int).type`.\n",
            "  if np.issubdtype(vec.dtype, np.int):\n"
          ],
          "name": "stderr"
        }
      ]
    }
  ]
}