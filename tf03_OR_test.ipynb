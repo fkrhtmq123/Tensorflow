{
  "nbformat": 4,
  "nbformat_minor": 0,
  "metadata": {
    "colab": {
      "name": "tf03_OR_test.ipynb",
      "provenance": [],
      "authorship_tag": "ABX9TyPjvXXVGbvkpxHgF/GBB8SQ",
      "include_colab_link": true
    },
    "kernelspec": {
      "name": "python3",
      "display_name": "Python 3"
    }
  },
  "cells": [
    {
      "cell_type": "markdown",
      "metadata": {
        "id": "view-in-github",
        "colab_type": "text"
      },
      "source": [
        "<a href=\"https://colab.research.google.com/github/fkrhtmq123/Tensorflow/blob/master/tf03_OR_test.ipynb\" target=\"_parent\"><img src=\"https://colab.research.google.com/assets/colab-badge.svg\" alt=\"Open In Colab\"/></a>"
      ]
    },
    {
      "cell_type": "code",
      "metadata": {
        "id": "43CZOeCYQIEU",
        "colab_type": "code",
        "colab": {}
      },
      "source": [
        "\"\"\"\n",
        "  날짜 : 2020/08/18\n",
        "  이름 : 김동욱\n",
        "  내용 : OR 연산 실습\n",
        "\"\"\"\n",
        "import tensorflow as tf\n",
        "import numpy as np\n",
        "from tensorflow.keras.models import Sequential\n",
        "from tensorflow.keras.layers import Dense\n",
        "from tensorflow.keras.optimizers import SGD\n",
        "from tensorflow.keras.losses import mse"
      ],
      "execution_count": null,
      "outputs": []
    },
    {
      "cell_type": "code",
      "metadata": {
        "id": "U9GrTSi7RN06",
        "colab_type": "code",
        "colab": {}
      },
      "source": [
        "# 데이터 준비\n",
        "data = np.array([[0, 0], [0, 1], [1, 0] ,[1, 1]])\n",
        "label = np.array([[0], [1] ,[1] ,[1]])"
      ],
      "execution_count": null,
      "outputs": []
    },
    {
      "cell_type": "code",
      "metadata": {
        "id": "HVpifBW-RkJI",
        "colab_type": "code",
        "colab": {}
      },
      "source": [
        "# 학습모델 설계\n",
        "model = Sequential()\n",
        "model.add(Dense(units=1, input_shape=(2,), activation='linear'))"
      ],
      "execution_count": null,
      "outputs": []
    },
    {
      "cell_type": "code",
      "metadata": {
        "id": "Y8tbEMc4SC9w",
        "colab_type": "code",
        "colab": {}
      },
      "source": [
        "# 모델 설정\n",
        "model.compile(optimizer=SGD(),\n",
        "              loss=mse,\n",
        "              metrics=['acc'])"
      ],
      "execution_count": null,
      "outputs": []
    },
    {
      "cell_type": "code",
      "metadata": {
        "id": "U0RF7-8ESb-n",
        "colab_type": "code",
        "colab": {}
      },
      "source": [
        "# 학습하기\n",
        "model.fit(data, label, epochs=5000)"
      ],
      "execution_count": null,
      "outputs": []
    },
    {
      "cell_type": "code",
      "metadata": {
        "id": "QNYtPjJ9Smwf",
        "colab_type": "code",
        "colab": {
          "base_uri": "https://localhost:8080/",
          "height": 89
        },
        "outputId": "117ac7d3-3bc0-49b0-e445-2f74a244b719"
      },
      "source": [
        "# 검증하기\n",
        "result = model.predict(data)\n",
        "result"
      ],
      "execution_count": null,
      "outputs": [
        {
          "output_type": "execute_result",
          "data": {
            "text/plain": [
              "array([[0.24996695],\n",
              "       [0.7499949 ],\n",
              "       [0.7499949 ],\n",
              "       [1.2500229 ]], dtype=float32)"
            ]
          },
          "metadata": {
            "tags": []
          },
          "execution_count": 20
        }
      ]
    }
  ]
}