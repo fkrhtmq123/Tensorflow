{
  "nbformat": 4,
  "nbformat_minor": 0,
  "metadata": {
    "colab": {
      "name": "tf08_cifar10_cnn_test.ipynb",
      "provenance": [],
      "authorship_tag": "ABX9TyPnn+xzTeNolfFqaqX94S1d",
      "include_colab_link": true
    },
    "kernelspec": {
      "name": "python3",
      "display_name": "Python 3"
    },
    "accelerator": "GPU"
  },
  "cells": [
    {
      "cell_type": "markdown",
      "metadata": {
        "id": "view-in-github",
        "colab_type": "text"
      },
      "source": [
        "<a href=\"https://colab.research.google.com/github/fkrhtmq123/Tensorflow/blob/master/tf08_cifar10_cnn_test.ipynb\" target=\"_parent\"><img src=\"https://colab.research.google.com/assets/colab-badge.svg\" alt=\"Open In Colab\"/></a>"
      ]
    },
    {
      "cell_type": "code",
      "metadata": {
        "id": "AW2MWLPZdRui",
        "colab_type": "code",
        "colab": {}
      },
      "source": [
        "\"\"\"\n",
        "  날짜 : 2020/08/19\n",
        "  이름 : 김동욱\n",
        "  내용 : 딥러닝 cifar10 CNN 이미지 분류 실습\n",
        "\"\"\"\n",
        "import matplotlib.pyplot as plt\n",
        "import numpy as np\n",
        "from tensorflow.keras.datasets.cifar10 import load_data\n",
        "from tensorflow.keras.utils import to_categorical\n",
        "from tensorflow.keras.models import Sequential\n",
        "from tensorflow.keras.layers import Dense, Flatten, Conv2D, MaxPool2D, Dropout\n",
        "from sklearn.model_selection import train_test_split\n",
        "from PIL import Image #파이썬 이미지 처리 라이브러리"
      ],
      "execution_count": 2,
      "outputs": []
    },
    {
      "cell_type": "code",
      "metadata": {
        "id": "jGZj7c9bdnGA",
        "colab_type": "code",
        "colab": {
          "base_uri": "https://localhost:8080/",
          "height": 89
        },
        "outputId": "f949f78d-588b-4899-92a0-f3510cb0a98d"
      },
      "source": [
        "#학습데이터 로드\n",
        "(cifar_train_data, cifar_train_label), (cifar_test_data, cifar_test_label) = load_data()\n",
        "\n",
        "#데이터 형태 확인\n",
        "print(cifar_train_data.shape, cifar_train_label.shape)\n",
        "print(cifar_test_data.shape, cifar_test_label.shape)"
      ],
      "execution_count": 3,
      "outputs": [
        {
          "output_type": "stream",
          "text": [
            "Downloading data from https://www.cs.toronto.edu/~kriz/cifar-10-python.tar.gz\n",
            "170500096/170498071 [==============================] - 4s 0us/step\n",
            "(50000, 32, 32, 3) (50000, 1)\n",
            "(10000, 32, 32, 3) (10000, 1)\n"
          ],
          "name": "stdout"
        }
      ]
    },
    {
      "cell_type": "code",
      "metadata": {
        "id": "bhQ_kf3tdnHw",
        "colab_type": "code",
        "colab": {}
      },
      "source": [
        "#데이터 샘플 이미지 출력\n",
        "class_names = ['Airplane', 'Automobile', 'Bird', 'Cat', 'Deer', 'Frog', 'Horse', 'Ship', 'Truck']\n",
        "random_idx = np.random.randint(50000, size=9)\n",
        "print(random_idx)\n",
        "\n",
        "plt.figure(figsize=(5, 5))\n",
        "\n",
        "for i, idx in enumerate(random_idx):\n",
        "  plt.subplot(3, 3, i + 1)\n",
        "  plt.xticks([])\n",
        "  plt.yticks([])\n",
        "  label = cifar_train_label[idx][0]\n",
        "  plt.imshow(cifar_train_data[idx, :])\n",
        "  plt.title('%s' % class_names[label])"
      ],
      "execution_count": null,
      "outputs": []
    },
    {
      "cell_type": "code",
      "metadata": {
        "id": "2R3T4Ta4dnJl",
        "colab_type": "code",
        "colab": {
          "base_uri": "https://localhost:8080/",
          "height": 53
        },
        "outputId": "68b2da10-1938-4780-9f48-76ed3de6a7c5"
      },
      "source": [
        "#데이터셋 분할하기\n",
        "train_data, test_data, train_label, test_label = train_test_split(cifar_train_data, cifar_train_label)\n",
        "print('훈련 데이터 : ', train_data.shape)\n",
        "print('검증 데이터 : ', test_data.shape)"
      ],
      "execution_count": 5,
      "outputs": [
        {
          "output_type": "stream",
          "text": [
            "훈련 데이터 :  (37500, 32, 32, 3)\n",
            "검증 데이터 :  (12500, 32, 32, 3)\n"
          ],
          "name": "stdout"
        }
      ]
    },
    {
      "cell_type": "code",
      "metadata": {
        "id": "C0WO8z5udnLX",
        "colab_type": "code",
        "colab": {}
      },
      "source": [
        "#모델학습을 위한 데이터 전처리(정규화)\n",
        "\n",
        "#방법1 : 픽셀데이터를 0 ~ 1 사이로 초기화하는 정규화 -> 정확도 낮음\n",
        "#train_data = train_data / 255\n",
        "#test_data = test_data / 255\n",
        "#mnist_test_data = mnist_test_data / 255\n",
        "\n",
        "#방법2 : 픽셀데이터를 평균과 표준편차를 이용한 정규화 -> 정확도 높음\n",
        "mean = np.mean(train_data, axis=(0, 1, 2))\n",
        "std = np.std(train_data, axis=(0, 1, 2))\n",
        "\n",
        "train_data = (train_data - mean) / std\n",
        "test_data = (test_data - mean) / std\n",
        "cifar_test_data = (cifar_test_data - mean) / std\n",
        "\n",
        "#각 데이터의 레이블을 범주형(One-hot encoding) 형태로 변환\n",
        "train_label = to_categorical(train_label)\n",
        "test_label = to_categorical(test_label)\n",
        "cifar_test_label = to_categorical(cifar_test_label)"
      ],
      "execution_count": 6,
      "outputs": []
    },
    {
      "cell_type": "code",
      "metadata": {
        "id": "ZMTqpNgwdnNO",
        "colab_type": "code",
        "colab": {
          "base_uri": "https://localhost:8080/",
          "height": 701
        },
        "outputId": "f29566d1-4f7d-4aef-e810-0c3b84b534fa"
      },
      "source": [
        "#학습모델 구성하기\n",
        "model = Sequential()\n",
        "\n",
        "#CNN 층\n",
        "model.add(Conv2D(filters=32, kernel_size=3, padding='same', activation='relu', input_shape=(32, 32, 3)))\n",
        "model.add(Conv2D(filters=32, kernel_size=3, padding='same', activation='relu'))\n",
        "model.add(MaxPool2D(pool_size=(2, 2), strides=2, padding='same'))\n",
        "model.add(Dropout(0.3))\n",
        "\n",
        "model.add(Conv2D(filters=64, kernel_size=3, padding='same', activation='relu'))\n",
        "model.add(Conv2D(filters=64, kernel_size=3, padding='same', activation='relu'))\n",
        "model.add(MaxPool2D(pool_size=(2, 2), strides=2, padding='same'))\n",
        "model.add(Dropout(0.3))\n",
        "\n",
        "model.add(Conv2D(filters=128, kernel_size=3, padding='same', activation='relu'))\n",
        "model.add(Conv2D(filters=128, kernel_size=3, padding='same', activation='relu'))\n",
        "model.add(MaxPool2D(pool_size=(2, 2), strides=2, padding='same'))\n",
        "model.add(Dropout(0.3))\n",
        "\n",
        "#FCNN (Full Connection Neural Network : 완전 연결 층)\n",
        "model.add(Flatten())                          #입력층\n",
        "model.add(Dense(256, activation='relu'))      #은닉층\n",
        "model.add(Dense(10, activation='softmax'))    #출력층\n",
        "\n",
        "#모델 요약 확인\n",
        "model.summary()"
      ],
      "execution_count": 19,
      "outputs": [
        {
          "output_type": "stream",
          "text": [
            "Model: \"sequential_2\"\n",
            "_________________________________________________________________\n",
            "Layer (type)                 Output Shape              Param #   \n",
            "=================================================================\n",
            "conv2d_12 (Conv2D)           (None, 32, 32, 32)        896       \n",
            "_________________________________________________________________\n",
            "conv2d_13 (Conv2D)           (None, 32, 32, 32)        9248      \n",
            "_________________________________________________________________\n",
            "max_pooling2d_6 (MaxPooling2 (None, 16, 16, 32)        0         \n",
            "_________________________________________________________________\n",
            "dropout_3 (Dropout)          (None, 16, 16, 32)        0         \n",
            "_________________________________________________________________\n",
            "conv2d_14 (Conv2D)           (None, 16, 16, 64)        18496     \n",
            "_________________________________________________________________\n",
            "conv2d_15 (Conv2D)           (None, 16, 16, 64)        36928     \n",
            "_________________________________________________________________\n",
            "max_pooling2d_7 (MaxPooling2 (None, 8, 8, 64)          0         \n",
            "_________________________________________________________________\n",
            "dropout_4 (Dropout)          (None, 8, 8, 64)          0         \n",
            "_________________________________________________________________\n",
            "conv2d_16 (Conv2D)           (None, 8, 8, 128)         73856     \n",
            "_________________________________________________________________\n",
            "conv2d_17 (Conv2D)           (None, 8, 8, 128)         147584    \n",
            "_________________________________________________________________\n",
            "max_pooling2d_8 (MaxPooling2 (None, 4, 4, 128)         0         \n",
            "_________________________________________________________________\n",
            "dropout_5 (Dropout)          (None, 4, 4, 128)         0         \n",
            "_________________________________________________________________\n",
            "flatten_2 (Flatten)          (None, 2048)              0         \n",
            "_________________________________________________________________\n",
            "dense_4 (Dense)              (None, 256)               524544    \n",
            "_________________________________________________________________\n",
            "dense_5 (Dense)              (None, 10)                2570      \n",
            "=================================================================\n",
            "Total params: 814,122\n",
            "Trainable params: 814,122\n",
            "Non-trainable params: 0\n",
            "_________________________________________________________________\n"
          ],
          "name": "stdout"
        }
      ]
    },
    {
      "cell_type": "code",
      "metadata": {
        "id": "kZu8dNGodnO1",
        "colab_type": "code",
        "colab": {}
      },
      "source": [
        "#학습모델 설정하기\n",
        "model.compile(optimizer='Adam',\n",
        "              loss='categorical_crossentropy',\n",
        "              metrics=['acc'])"
      ],
      "execution_count": 20,
      "outputs": []
    },
    {
      "cell_type": "code",
      "metadata": {
        "id": "nEDJ6bRKdnQu",
        "colab_type": "code",
        "colab": {}
      },
      "source": [
        "# 모델 학습하기\n",
        "model.fit(train_data, \n",
        "          train_label, \n",
        "          epochs=30, \n",
        "          batch_size=32, \n",
        "          validation_data=(test_data, test_label))"
      ],
      "execution_count": null,
      "outputs": []
    },
    {
      "cell_type": "code",
      "metadata": {
        "id": "NYiZIU_OdnSN",
        "colab_type": "code",
        "colab": {
          "base_uri": "https://localhost:8080/",
          "height": 53
        },
        "outputId": "c56ff41e-62e3-4c04-9dc2-62c6d6c4fa56"
      },
      "source": [
        "#평가하기\n",
        "#학습할 때의 정확도와 평가할 때 정확도가 차이나면 과적합을 의심\n",
        "model.evaluate(cifar_test_data, cifar_test_label)"
      ],
      "execution_count": 22,
      "outputs": [
        {
          "output_type": "stream",
          "text": [
            "313/313 [==============================] - 1s 3ms/step - loss: 0.7233 - acc: 0.7803\n"
          ],
          "name": "stdout"
        },
        {
          "output_type": "execute_result",
          "data": {
            "text/plain": [
              "[0.7233046889305115, 0.7803000211715698]"
            ]
          },
          "metadata": {
            "tags": []
          },
          "execution_count": 22
        }
      ]
    },
    {
      "cell_type": "code",
      "metadata": {
        "id": "sL7Tsr9vdnT3",
        "colab_type": "code",
        "colab": {
          "base_uri": "https://localhost:8080/",
          "height": 35
        },
        "outputId": "e61fffe7-f554-403c-e18a-f298b372568a"
      },
      "source": [
        "result = model.predict(cifar_test_data)\n",
        "result.round()\n",
        "\n",
        "from sklearn.metrics import accuracy_score\n",
        "score = accuracy_score(result.round(), cifar_test_label)\n",
        "print('점수 : ', score )"
      ],
      "execution_count": 23,
      "outputs": [
        {
          "output_type": "stream",
          "text": [
            "점수 :  0.7451\n"
          ],
          "name": "stdout"
        }
      ]
    }
  ]
}