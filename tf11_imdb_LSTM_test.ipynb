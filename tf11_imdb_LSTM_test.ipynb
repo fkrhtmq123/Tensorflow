{
  "nbformat": 4,
  "nbformat_minor": 0,
  "metadata": {
    "colab": {
      "name": "tf11_imdb_LSTM_test.ipynb",
      "provenance": [],
      "collapsed_sections": [],
      "authorship_tag": "ABX9TyOATLR9+Jn8QL8WhHN9wJyD",
      "include_colab_link": true
    },
    "kernelspec": {
      "name": "python3",
      "display_name": "Python 3"
    },
    "accelerator": "GPU"
  },
  "cells": [
    {
      "cell_type": "markdown",
      "metadata": {
        "id": "view-in-github",
        "colab_type": "text"
      },
      "source": [
        "<a href=\"https://colab.research.google.com/github/fkrhtmq123/Tensorflow/blob/master/tf11_imdb_LSTM_test.ipynb\" target=\"_parent\"><img src=\"https://colab.research.google.com/assets/colab-badge.svg\" alt=\"Open In Colab\"/></a>"
      ]
    },
    {
      "cell_type": "code",
      "metadata": {
        "id": "Q4sT0lfe9hEu",
        "colab_type": "code",
        "colab": {}
      },
      "source": [
        "\"\"\"\n",
        "  날짜 : 2020/08/20\n",
        "  이름 : 김동욱\n",
        "  내용 : LSTM IMDB 텍스트 분석 실습하기\n",
        "\"\"\"\n",
        "from tensorflow.keras.preprocessing.text import Tokenizer\n",
        "from tensorflow.keras.preprocessing.sequence import pad_sequences\n",
        "from tensorflow.keras.utils import to_categorical\n",
        "from tensorflow.keras.datasets import imdb\n",
        "from tensorflow.keras.models import Sequential\n",
        "from tensorflow.keras.layers import Dense, Embedding, Flatten, LSTM"
      ],
      "execution_count": null,
      "outputs": []
    },
    {
      "cell_type": "code",
      "metadata": {
        "id": "VPqhoqqc9jgn",
        "colab_type": "code",
        "colab": {
          "base_uri": "https://localhost:8080/",
          "height": 53
        },
        "outputId": "2776547e-860f-486f-cbe5-8c33bd97d300"
      },
      "source": [
        "#데이터셋 로드하기\n",
        "(imdb_train_data, imdb_train_label), (imdb_test_data, imdb_test_label) = imdb.load_data(num_words=1000)"
      ],
      "execution_count": null,
      "outputs": [
        {
          "output_type": "stream",
          "text": [
            "Downloading data from https://storage.googleapis.com/tensorflow/tf-keras-datasets/imdb.npz\n",
            "17465344/17464789 [==============================] - 0s 0us/step\n"
          ],
          "name": "stdout"
        }
      ]
    },
    {
      "cell_type": "code",
      "metadata": {
        "id": "_e1SiF5b9jkP",
        "colab_type": "code",
        "colab": {
          "base_uri": "https://localhost:8080/",
          "height": 127
        },
        "outputId": "be397358-167d-4994-f454-6dcf9fee694d"
      },
      "source": [
        "#데이터셋 확인하기\n",
        "print(imdb_train_data.shape, imdb_train_label.shape)\n",
        "print(imdb_test_data.shape, imdb_test_label.shape)\n",
        "\n",
        "#시퀀스데이터 영어 문장으로 변환\n",
        "imdb_get_word_index = {}\n",
        "\n",
        "for word, value in imdb.get_word_index().items():\n",
        "    imdb_get_word_index[value] = word\n",
        "\n",
        "for w in imdb_train_data[0]:\n",
        "    print(imdb_get_word_index[w], end=' ')"
      ],
      "execution_count": null,
      "outputs": [
        {
          "output_type": "stream",
          "text": [
            "(25000,) (25000,)\n",
            "(25000,) (25000,)\n",
            "Downloading data from https://storage.googleapis.com/tensorflow/tf-keras-datasets/imdb_word_index.json\n",
            "1646592/1641221 [==============================] - 0s 0us/step\n",
            "the as you with out themselves powerful and and their becomes and had and of lot from anyone to have after out atmosphere never more room and it so heart shows to years of every never going and help moments or of every and and movie except her was several of enough more with is now and film as you of and and unfortunately of you than him that with out themselves her get for was and of you movie sometimes movie that with scary but and to story wonderful that in seeing in character to of and and with heart had and they of here that with her serious to have does when from why what have and they is you that isn't one will very to as itself with other and in of seen over and for anyone of and br and to whether from than out themselves history he name half some br of and and was two most of mean for 1 any an and she he should is thought and but of script you not while history he heart to real at and but when from one bit then have two of script their with her and most that with wasn't to with and acting watch an for with and film want an "
          ],
          "name": "stdout"
        }
      ]
    },
    {
      "cell_type": "code",
      "metadata": {
        "id": "ftpKVtnR9jme",
        "colab_type": "code",
        "colab": {
          "base_uri": "https://localhost:8080/",
          "height": 89
        },
        "outputId": "c2340e48-6c2c-4151-c3f7-80060cf3fdea"
      },
      "source": [
        "#데이터 전처리(데이터를 동일한 길이로 맞추기)\n",
        "print('패딩 전 : ', len(imdb_train_data[0]))\n",
        "print('패딩 전 : ', len(imdb_train_data[1]))\n",
        "\n",
        "pad_imdb_train_data = pad_sequences(imdb_train_data, maxlen=500, padding='pre')\n",
        "pad_imdb_test_data = pad_sequences(imdb_test_data, maxlen=500, padding='pre')\n",
        "\n",
        "print('패딩 후 : ', len(pad_imdb_train_data[0]))\n",
        "print('패딩 후 : ', len(pad_imdb_train_data[1]))"
      ],
      "execution_count": null,
      "outputs": [
        {
          "output_type": "stream",
          "text": [
            "패딩 전 :  218\n",
            "패딩 전 :  189\n",
            "패딩 후 :  500\n",
            "패딩 후 :  500\n"
          ],
          "name": "stdout"
        }
      ]
    },
    {
      "cell_type": "code",
      "metadata": {
        "id": "ZOOsIazI9joK",
        "colab_type": "code",
        "colab": {}
      },
      "source": [
        "#모델 구성하기 (수정본)\n",
        "model = Sequential()\n",
        "model.add(Embedding(5000, 120))\n",
        "model.add(LSTM(120))\n",
        "model.add(Dense(1, activation='sigmoid'))\n",
        "\n",
        "#수업 때 한거\n",
        "#model = Sequential()\n",
        "#model.add(Embedding(input_dim=1000, output_dim=32))\n",
        "#model.add(LSTM(128, return_sequences=True))\n",
        "#model.add(Dense(1, activation='sigmoid'))"
      ],
      "execution_count": null,
      "outputs": []
    },
    {
      "cell_type": "code",
      "metadata": {
        "id": "BgfF0yN19jqg",
        "colab_type": "code",
        "colab": {}
      },
      "source": [
        "#모델 설정하기\n",
        "model.compile(optimizer='adam',\n",
        "              loss='binary_crossentropy',\n",
        "              metrics=['acc'])"
      ],
      "execution_count": null,
      "outputs": []
    },
    {
      "cell_type": "code",
      "metadata": {
        "id": "0bhSsYiV9jsZ",
        "colab_type": "code",
        "colab": {
          "base_uri": "https://localhost:8080/",
          "height": 395
        },
        "outputId": "6e8491be-1154-4a23-f8eb-b452d12c3c5a"
      },
      "source": [
        "#모델 학습하기(수정본)\n",
        "model.fit(pad_imdb_train_data, \n",
        "          imdb_train_label,\n",
        "          batch_size=64,\n",
        "          epochs=10,\n",
        "          validation_split=0.2)\n",
        "\n",
        "#수업 때 한거\n",
        "#model.fit(pad_imdb_train_data, \n",
        "#          imdb_train_label,\n",
        "#          batch_size=32,\n",
        "#          epochs=10,\n",
        "#          validation_split=0.2)"
      ],
      "execution_count": null,
      "outputs": [
        {
          "output_type": "stream",
          "text": [
            "Epoch 1/10\n",
            "313/313 [==============================] - 12s 40ms/step - loss: 0.3895 - acc: 0.8273 - val_loss: 0.3984 - val_acc: 0.8400\n",
            "Epoch 2/10\n",
            "313/313 [==============================] - 12s 39ms/step - loss: 0.3913 - acc: 0.8213 - val_loss: 0.5630 - val_acc: 0.7038\n",
            "Epoch 3/10\n",
            "313/313 [==============================] - 13s 40ms/step - loss: 0.3175 - acc: 0.8658 - val_loss: 0.3319 - val_acc: 0.8642\n",
            "Epoch 4/10\n",
            "313/313 [==============================] - 12s 39ms/step - loss: 0.2516 - acc: 0.8973 - val_loss: 0.3095 - val_acc: 0.8728\n",
            "Epoch 5/10\n",
            "313/313 [==============================] - 12s 39ms/step - loss: 0.2428 - acc: 0.8981 - val_loss: 0.3467 - val_acc: 0.8586\n",
            "Epoch 6/10\n",
            "313/313 [==============================] - 12s 39ms/step - loss: 0.2311 - acc: 0.9065 - val_loss: 0.3168 - val_acc: 0.8710\n",
            "Epoch 7/10\n",
            "313/313 [==============================] - 12s 39ms/step - loss: 0.2197 - acc: 0.9115 - val_loss: 0.3330 - val_acc: 0.8648\n",
            "Epoch 8/10\n",
            "313/313 [==============================] - 12s 39ms/step - loss: 0.2111 - acc: 0.9143 - val_loss: 0.3430 - val_acc: 0.8592\n",
            "Epoch 9/10\n",
            "313/313 [==============================] - 12s 39ms/step - loss: 0.2073 - acc: 0.9125 - val_loss: 0.3483 - val_acc: 0.8662\n",
            "Epoch 10/10\n",
            "313/313 [==============================] - 12s 39ms/step - loss: 0.1885 - acc: 0.9237 - val_loss: 0.3538 - val_acc: 0.8594\n"
          ],
          "name": "stdout"
        },
        {
          "output_type": "execute_result",
          "data": {
            "text/plain": [
              "<tensorflow.python.keras.callbacks.History at 0x7f2139e2d518>"
            ]
          },
          "metadata": {
            "tags": []
          },
          "execution_count": 26
        }
      ]
    },
    {
      "cell_type": "code",
      "metadata": {
        "id": "TmJJlcec9juR",
        "colab_type": "code",
        "colab": {
          "base_uri": "https://localhost:8080/",
          "height": 53
        },
        "outputId": "e0bf493b-58d2-4247-fe7a-fbfed8ac275c"
      },
      "source": [
        "#모델 평가하기\n",
        "model.evaluate(pad_imdb_test_data, imdb_test_label)"
      ],
      "execution_count": null,
      "outputs": [
        {
          "output_type": "stream",
          "text": [
            "782/782 [==============================] - 8s 10ms/step - loss: 0.3511 - acc: 0.8672\n"
          ],
          "name": "stdout"
        },
        {
          "output_type": "execute_result",
          "data": {
            "text/plain": [
              "[0.3510533273220062, 0.8671600222587585]"
            ]
          },
          "metadata": {
            "tags": []
          },
          "execution_count": 28
        }
      ]
    },
    {
      "cell_type": "code",
      "metadata": {
        "id": "ezugdcnp9jwJ",
        "colab_type": "code",
        "colab": {
          "base_uri": "https://localhost:8080/",
          "height": 89
        },
        "outputId": "c27b997f-415d-46ee-8864-d62defbedb57"
      },
      "source": [
        "#예측하기(텍스트를 시퀀스 값으로 바꿔야 된다)\n",
        "sample_text = [10, 116, 11, 17]\n",
        "result = model.predict(sample_text)\n",
        "result"
      ],
      "execution_count": null,
      "outputs": [
        {
          "output_type": "execute_result",
          "data": {
            "text/plain": [
              "array([[0.5215977 ],\n",
              "       [0.11441503],\n",
              "       [0.5337136 ],\n",
              "       [0.66534984]], dtype=float32)"
            ]
          },
          "metadata": {
            "tags": []
          },
          "execution_count": 27
        }
      ]
    }
  ]
}