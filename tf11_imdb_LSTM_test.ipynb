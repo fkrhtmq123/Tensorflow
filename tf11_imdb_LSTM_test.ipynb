{
  "nbformat": 4,
  "nbformat_minor": 0,
  "metadata": {
    "colab": {
      "name": "tf11_imdb_LSTM_test.ipynb",
      "provenance": [],
      "collapsed_sections": [],
      "authorship_tag": "ABX9TyNsXfy8F9DdkhEdeDNqTGhQ",
      "include_colab_link": true
    },
    "kernelspec": {
      "name": "python3",
      "display_name": "Python 3"
    },
    "accelerator": "GPU"
  },
  "cells": [
    {
      "cell_type": "markdown",
      "metadata": {
        "id": "view-in-github",
        "colab_type": "text"
      },
      "source": [
        "<a href=\"https://colab.research.google.com/github/fkrhtmq123/Tensorflow/blob/master/tf11_imdb_LSTM_test.ipynb\" target=\"_parent\"><img src=\"https://colab.research.google.com/assets/colab-badge.svg\" alt=\"Open In Colab\"/></a>"
      ]
    },
    {
      "cell_type": "code",
      "metadata": {
        "id": "Q4sT0lfe9hEu",
        "colab_type": "code",
        "colab": {}
      },
      "source": [
        "\"\"\"\n",
        "  날짜 : 2020/08/20\n",
        "  이름 : 김동욱\n",
        "  내용 : LSTM IMDB 텍스트 분석 실습하기\n",
        "\"\"\"\n",
        "from tensorflow.keras.preprocessing.text import Tokenizer\n",
        "from tensorflow.keras.preprocessing.sequence import pad_sequences\n",
        "from tensorflow.keras.utils import to_categorical\n",
        "from tensorflow.keras.datasets import imdb\n",
        "from tensorflow.keras.models import Sequential\n",
        "from tensorflow.keras.layers import Dense, Embedding, Flatten, LSTM"
      ],
      "execution_count": null,
      "outputs": []
    },
    {
      "cell_type": "code",
      "metadata": {
        "id": "VPqhoqqc9jgn",
        "colab_type": "code",
        "colab": {
          "base_uri": "https://localhost:8080/",
          "height": 53
        },
        "outputId": "5a8f7606-c9c8-4884-87ec-a420d8fd6acf"
      },
      "source": [
        "#데이터셋 로드하기\n",
        "(imdb_train_data, imdb_train_label), (imdb_test_data, imdb_test_label) = imdb.load_data(num_words=1000)"
      ],
      "execution_count": null,
      "outputs": [
        {
          "output_type": "stream",
          "text": [
            "Downloading data from https://storage.googleapis.com/tensorflow/tf-keras-datasets/imdb.npz\n",
            "17465344/17464789 [==============================] - 0s 0us/step\n"
          ],
          "name": "stdout"
        }
      ]
    },
    {
      "cell_type": "code",
      "metadata": {
        "id": "_e1SiF5b9jkP",
        "colab_type": "code",
        "colab": {
          "base_uri": "https://localhost:8080/",
          "height": 127
        },
        "outputId": "5a9fb11d-5e93-4cb1-9c4d-2acb58d82d26"
      },
      "source": [
        "#데이터셋 확인하기\n",
        "print(imdb_train_data.shape, imdb_train_label.shape)\n",
        "print(imdb_test_data.shape, imdb_test_label.shape)\n",
        "\n",
        "#시퀀스데이터 영어 문장으로 변환\n",
        "imdb_get_word_index = {}\n",
        "\n",
        "for word, value in imdb.get_word_index().items():\n",
        "    imdb_get_word_index[value] = word\n",
        "\n",
        "for w in imdb_train_data[0]:\n",
        "    print(imdb_get_word_index[w], end=' ')"
      ],
      "execution_count": null,
      "outputs": [
        {
          "output_type": "stream",
          "text": [
            "(25000,) (25000,)\n",
            "(25000,) (25000,)\n",
            "Downloading data from https://storage.googleapis.com/tensorflow/tf-keras-datasets/imdb_word_index.json\n",
            "1646592/1641221 [==============================] - 0s 0us/step\n",
            "the as you with out themselves powerful and and their becomes and had and of lot from anyone to have after out atmosphere never more room and it so heart shows to years of every never going and help moments or of every and and movie except her was several of enough more with is now and film as you of and and unfortunately of you than him that with out themselves her get for was and of you movie sometimes movie that with scary but and to story wonderful that in seeing in character to of and and with heart had and they of here that with her serious to have does when from why what have and they is you that isn't one will very to as itself with other and in of seen over and for anyone of and br and to whether from than out themselves history he name half some br of and and was two most of mean for 1 any an and she he should is thought and but of script you not while history he heart to real at and but when from one bit then have two of script their with her and most that with wasn't to with and acting watch an for with and film want an "
          ],
          "name": "stdout"
        }
      ]
    },
    {
      "cell_type": "code",
      "metadata": {
        "id": "ftpKVtnR9jme",
        "colab_type": "code",
        "colab": {
          "base_uri": "https://localhost:8080/",
          "height": 89
        },
        "outputId": "d438e3b1-fa2b-4fb4-c6da-04a584547f8b"
      },
      "source": [
        "#데이터 전처리(데이터를 동일한 길이로 맞추기)\n",
        "print('패딩 전 : ', len(imdb_train_data[0]))\n",
        "print('패딩 전 : ', len(imdb_train_data[1]))\n",
        "\n",
        "pad_imdb_train_data = pad_sequences(imdb_train_data, maxlen=500, padding='pre')\n",
        "pad_imdb_test_data = pad_sequences(imdb_test_data, maxlen=500, padding='pre')\n",
        "\n",
        "print('패딩 후 : ', len(pad_imdb_train_data[0]))\n",
        "print('패딩 후 : ', len(pad_imdb_train_data[1]))"
      ],
      "execution_count": null,
      "outputs": [
        {
          "output_type": "stream",
          "text": [
            "패딩 전 :  218\n",
            "패딩 전 :  189\n",
            "패딩 후 :  500\n",
            "패딩 후 :  500\n"
          ],
          "name": "stdout"
        }
      ]
    },
    {
      "cell_type": "code",
      "metadata": {
        "id": "ZOOsIazI9joK",
        "colab_type": "code",
        "colab": {}
      },
      "source": [
        "#모델 구성하기\n",
        "model = Sequential()\n",
        "model.add(Embedding(input_dim=1000, output_dim=32))\n",
        "model.add(LSTM(128, return_sequences=True))\n",
        "model.add(Dense(1, activation='sigmoid'))"
      ],
      "execution_count": null,
      "outputs": []
    },
    {
      "cell_type": "code",
      "metadata": {
        "id": "BgfF0yN19jqg",
        "colab_type": "code",
        "colab": {}
      },
      "source": [
        "#모델 설정하기\n",
        "model.compile(optimizer='adam',\n",
        "              loss='binary_crossentropy',\n",
        "              metrics=['acc'])"
      ],
      "execution_count": null,
      "outputs": []
    },
    {
      "cell_type": "code",
      "metadata": {
        "id": "0bhSsYiV9jsZ",
        "colab_type": "code",
        "colab": {
          "base_uri": "https://localhost:8080/",
          "height": 395
        },
        "outputId": "fb231045-9793-4123-a197-0343f68f5549"
      },
      "source": [
        "#모델 학습하기\n",
        "model.fit(pad_imdb_train_data, \n",
        "          imdb_train_label,\n",
        "          batch_size=32,\n",
        "          epochs=10,\n",
        "          validation_split=0.2)"
      ],
      "execution_count": null,
      "outputs": [
        {
          "output_type": "stream",
          "text": [
            "Epoch 1/10\n",
            "625/625 [==============================] - 16s 25ms/step - loss: 0.6630 - acc: 0.5702 - val_loss: 0.6935 - val_acc: 0.5129\n",
            "Epoch 2/10\n",
            "625/625 [==============================] - 15s 24ms/step - loss: 0.6957 - acc: 0.5169 - val_loss: 0.6889 - val_acc: 0.5201\n",
            "Epoch 3/10\n",
            "625/625 [==============================] - 15s 24ms/step - loss: 0.6810 - acc: 0.5401 - val_loss: 0.6482 - val_acc: 0.5976\n",
            "Epoch 4/10\n",
            "625/625 [==============================] - 15s 24ms/step - loss: 0.6831 - acc: 0.5412 - val_loss: 0.6857 - val_acc: 0.5318\n",
            "Epoch 5/10\n",
            "625/625 [==============================] - 15s 24ms/step - loss: 0.6712 - acc: 0.5619 - val_loss: 0.7988 - val_acc: 0.4975\n",
            "Epoch 6/10\n",
            "625/625 [==============================] - 15s 24ms/step - loss: 0.6882 - acc: 0.5350 - val_loss: 0.6817 - val_acc: 0.5394\n",
            "Epoch 7/10\n",
            "625/625 [==============================] - 15s 24ms/step - loss: 0.6405 - acc: 0.5934 - val_loss: 0.6097 - val_acc: 0.6145\n",
            "Epoch 8/10\n",
            "625/625 [==============================] - 15s 25ms/step - loss: 0.6006 - acc: 0.6172 - val_loss: 0.5955 - val_acc: 0.6191\n",
            "Epoch 9/10\n",
            "625/625 [==============================] - 15s 24ms/step - loss: 0.5916 - acc: 0.6222 - val_loss: 0.5928 - val_acc: 0.6222\n",
            "Epoch 10/10\n",
            "625/625 [==============================] - 15s 24ms/step - loss: 0.5854 - acc: 0.6234 - val_loss: 0.5965 - val_acc: 0.6226\n"
          ],
          "name": "stdout"
        },
        {
          "output_type": "execute_result",
          "data": {
            "text/plain": [
              "<tensorflow.python.keras.callbacks.History at 0x7f32daf82fd0>"
            ]
          },
          "metadata": {
            "tags": []
          },
          "execution_count": 19
        }
      ]
    },
    {
      "cell_type": "code",
      "metadata": {
        "id": "TmJJlcec9juR",
        "colab_type": "code",
        "colab": {
          "base_uri": "https://localhost:8080/",
          "height": 53
        },
        "outputId": "017854d6-a492-4158-af6b-c22979a895d2"
      },
      "source": [
        "#모델 평가하기\n",
        "model.evaluate(pad_imdb_test_data, imdb_test_label)"
      ],
      "execution_count": null,
      "outputs": [
        {
          "output_type": "stream",
          "text": [
            "782/782 [==============================] - 8s 10ms/step - loss: 0.5987 - acc: 0.6150\n"
          ],
          "name": "stdout"
        },
        {
          "output_type": "execute_result",
          "data": {
            "text/plain": [
              "[0.5986635684967041, 0.6149570941925049]"
            ]
          },
          "metadata": {
            "tags": []
          },
          "execution_count": 20
        }
      ]
    },
    {
      "cell_type": "code",
      "metadata": {
        "id": "ezugdcnp9jwJ",
        "colab_type": "code",
        "colab": {}
      },
      "source": [
        "#예측하기(텍스트를 시퀀스 값으로 바꿔야 된다)\n",
        "sample_text = [[10, 116, 11, 17], [9, 6, 434, 4, 55]]\n",
        "result = model.predict(sample_text)\n",
        "result"
      ],
      "execution_count": null,
      "outputs": []
    }
  ]
}