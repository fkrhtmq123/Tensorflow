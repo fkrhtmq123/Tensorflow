{
  "nbformat": 4,
  "nbformat_minor": 0,
  "metadata": {
    "colab": {
      "name": "Text_movie_sentiment_test.ipynb",
      "provenance": [],
      "authorship_tag": "ABX9TyPmuuBhQ91CrhmgQuMDLcMQ",
      "include_colab_link": true
    },
    "kernelspec": {
      "name": "python3",
      "display_name": "Python 3"
    },
    "accelerator": "GPU"
  },
  "cells": [
    {
      "cell_type": "markdown",
      "metadata": {
        "id": "view-in-github",
        "colab_type": "text"
      },
      "source": [
        "<a href=\"https://colab.research.google.com/github/fkrhtmq123/Tensorflow/blob/master/Text_movie_sentiment_test.ipynb\" target=\"_parent\"><img src=\"https://colab.research.google.com/assets/colab-badge.svg\" alt=\"Open In Colab\"/></a>"
      ]
    },
    {
      "cell_type": "code",
      "metadata": {
        "id": "eBKhMJUJpAZX",
        "colab_type": "code",
        "colab": {}
      },
      "source": [
        "# 구글 연동\n",
        "from google.colab import drive\n",
        "drive.mount('/content/drive')"
      ],
      "execution_count": null,
      "outputs": []
    },
    {
      "cell_type": "code",
      "metadata": {
        "id": "xLU2zXUEpTWH",
        "colab_type": "code",
        "colab": {}
      },
      "source": [
        "\"\"\"\n",
        "  날짜 : 2020/09/08\n",
        "  이름 : 김동욱\n",
        "  내용 : 학습된 영화 리뷰 모델 테스트하기\n",
        "\"\"\"\n",
        "\n",
        "from keras.models import load_model\n",
        "from tensorflow.keras.preprocessing.text import Tokenizer\n",
        "from tensorflow.keras.preprocessing.sequence import pad_sequences"
      ],
      "execution_count": 15,
      "outputs": []
    },
    {
      "cell_type": "code",
      "metadata": {
        "id": "5mAGAY7lph0u",
        "colab_type": "code",
        "colab": {}
      },
      "source": [
        "# 파일 로드 함수 정의\n",
        "def load_data(file):\n",
        "  result = []\n",
        "\n",
        "  with open(file, 'r', encoding='utf-8') as f:\n",
        "    lines = f.read().splitlines()\n",
        "\n",
        "    for line in lines:\n",
        "      data = line.split('\\t')\n",
        "      result.append(data)\n",
        "\n",
        "  result = result[1:] # header 정보 제외\n",
        "  return result"
      ],
      "execution_count": 16,
      "outputs": []
    },
    {
      "cell_type": "code",
      "metadata": {
        "id": "nejNchzYpxdN",
        "colab_type": "code",
        "colab": {
          "base_uri": "https://localhost:8080/",
          "height": 35
        },
        "outputId": "2745c22b-63bf-442c-b2a3-7796e904a2c8"
      },
      "source": [
        "# 데이터 파일 로드\n",
        "train_data = load_data('/content/drive/My Drive/Tensorflow_works/data/ratings_train.txt')\n",
        "train_data[0]"
      ],
      "execution_count": 17,
      "outputs": [
        {
          "output_type": "execute_result",
          "data": {
            "text/plain": [
              "['9976970', '아 더빙.. 진짜 짜증나네요 목소리', '0']"
            ]
          },
          "metadata": {
            "tags": []
          },
          "execution_count": 17
        }
      ]
    },
    {
      "cell_type": "code",
      "metadata": {
        "id": "kMZjLP0np9MV",
        "colab_type": "code",
        "colab": {}
      },
      "source": [
        "# 최대 5000개의 단어를 갖는 단어사전 생성\n",
        "train_x = []\n",
        "\n",
        "for i in range(len(train_data)):\n",
        "  train_x.append(train_data[i][1])\n",
        "\n",
        "tokenizer = Tokenizer(num_words=5000)\n",
        "tokenizer.fit_on_texts(train_x)"
      ],
      "execution_count": 18,
      "outputs": []
    },
    {
      "cell_type": "code",
      "metadata": {
        "id": "iy7Jyg3uqVow",
        "colab_type": "code",
        "colab": {}
      },
      "source": [
        "# 테스트 데이터 생성 및 전처리\n",
        "test_data = ['시간 가는 줄 모르고 봤습니다.',\n",
        "             '시간 낭비 했어요...',\n",
        "             '돈 아까워요...',\n",
        "             '올해 최고의 영화입니다.',\n",
        "             '초반에는 재밌었는데 중반으로 갈수록...',\n",
        "             '가족 영화로 추천합니다.',\n",
        "             '영화 보면서 잠만 잤습니다.',\n",
        "             '역시 믿고 보는 송강호!!!',\n",
        "             '와 이거 감독판으로 나왔으면 좋겠다.',\n",
        "             '스토리가 없어요. 정말이에요.']\n",
        "\n",
        "token_test_data = tokenizer.texts_to_sequences(test_data)\n",
        "#token_test_data\n",
        "\n",
        "pad_test_data = pad_sequences(token_test_data, maxlen=100)\n",
        "pad_test_data"
      ],
      "execution_count": null,
      "outputs": []
    },
    {
      "cell_type": "code",
      "metadata": {
        "id": "m0emyMACrYeu",
        "colab_type": "code",
        "colab": {
          "base_uri": "https://localhost:8080/",
          "height": 35
        },
        "outputId": "aad090e5-8b34-4e86-ce91-77392eabb865"
      },
      "source": [
        "# 모델 로드\n",
        "model = load_model('/content/drive/My Drive/Tensorflow_works/model/review1.model')\n",
        "model"
      ],
      "execution_count": 20,
      "outputs": [
        {
          "output_type": "execute_result",
          "data": {
            "text/plain": [
              "<tensorflow.python.keras.engine.sequential.Sequential at 0x7f930da0bac8>"
            ]
          },
          "metadata": {
            "tags": []
          },
          "execution_count": 20
        }
      ]
    },
    {
      "cell_type": "code",
      "metadata": {
        "id": "zMgyGxbAr710",
        "colab_type": "code",
        "colab": {
          "base_uri": "https://localhost:8080/",
          "height": 197
        },
        "outputId": "2902501f-1d6f-4108-aa7b-358eb647678c"
      },
      "source": [
        "# 모델 테스트\n",
        "result = model.predict(pad_test_data)\n",
        "result"
      ],
      "execution_count": 21,
      "outputs": [
        {
          "output_type": "execute_result",
          "data": {
            "text/plain": [
              "array([[9.3025243e-01],\n",
              "       [5.1593783e-05],\n",
              "       [5.5893421e-02],\n",
              "       [8.2606876e-01],\n",
              "       [4.5061013e-01],\n",
              "       [9.8862290e-01],\n",
              "       [4.5472112e-01],\n",
              "       [9.8755395e-01],\n",
              "       [9.9227667e-01],\n",
              "       [1.0231680e-01]], dtype=float32)"
            ]
          },
          "metadata": {
            "tags": []
          },
          "execution_count": 21
        }
      ]
    }
  ]
}