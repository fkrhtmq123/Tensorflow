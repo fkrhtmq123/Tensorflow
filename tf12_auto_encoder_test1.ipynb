{
  "nbformat": 4,
  "nbformat_minor": 0,
  "metadata": {
    "colab": {
      "name": "tf12_auto_encoder_test1.ipynb",
      "provenance": [],
      "collapsed_sections": [],
      "authorship_tag": "ABX9TyNWXirzZl91hgBOyVLph0gr",
      "include_colab_link": true
    },
    "kernelspec": {
      "name": "python3",
      "display_name": "Python 3"
    },
    "accelerator": "GPU"
  },
  "cells": [
    {
      "cell_type": "markdown",
      "metadata": {
        "id": "view-in-github",
        "colab_type": "text"
      },
      "source": [
        "<a href=\"https://colab.research.google.com/github/fkrhtmq123/Tensorflow/blob/master/tf12_auto_encoder_test1.ipynb\" target=\"_parent\"><img src=\"https://colab.research.google.com/assets/colab-badge.svg\" alt=\"Open In Colab\"/></a>"
      ]
    },
    {
      "cell_type": "code",
      "metadata": {
        "id": "CutSfpVnBlZU",
        "colab_type": "code",
        "colab": {
          "base_uri": "https://localhost:8080/",
          "height": 35
        },
        "outputId": "438b1949-0ea5-4510-ba88-c0a35348720d"
      },
      "source": [
        "\"\"\"\n",
        "  날짜 : 2020/08/25\n",
        "  이름 : 김동욱\n",
        "  내용 : 딥러닝 오토인코더(AutoEncoder) 개념 실습하기\n",
        "\"\"\"\n",
        "import numpy as np\n",
        "import tensorflow as tf\n",
        "import matplotlib.pyplot as plt\n",
        "from tensorflow.keras.layers import Input, Dense\n",
        "from tensorflow.keras.models import Model\n",
        "\n",
        "tf.__version__"
      ],
      "execution_count": 36,
      "outputs": [
        {
          "output_type": "execute_result",
          "data": {
            "application/vnd.google.colaboratory.intrinsic+json": {
              "type": "string"
            },
            "text/plain": [
              "'2.3.0'"
            ]
          },
          "metadata": {
            "tags": []
          },
          "execution_count": 36
        }
      ]
    },
    {
      "cell_type": "code",
      "metadata": {
        "id": "81pAlcwZDwZ2",
        "colab_type": "code",
        "colab": {
          "base_uri": "https://localhost:8080/",
          "height": 35
        },
        "outputId": "4faceaf1-04c3-4b23-f617-05cfeef1474b"
      },
      "source": [
        "# MNIST 데이터셋 로드\n",
        "(x_train, y_train), (x_test, y_test) = tf.keras.datasets.mnist.load_data()\n",
        "x_train.shape, y_train.shape"
      ],
      "execution_count": 37,
      "outputs": [
        {
          "output_type": "execute_result",
          "data": {
            "text/plain": [
              "((60000, 28, 28), (60000,))"
            ]
          },
          "metadata": {
            "tags": []
          },
          "execution_count": 37
        }
      ]
    },
    {
      "cell_type": "code",
      "metadata": {
        "id": "82wl7dcaE8MX",
        "colab_type": "code",
        "colab": {
          "base_uri": "https://localhost:8080/",
          "height": 35
        },
        "outputId": "d8ff5846-157c-4f5b-bbfc-7040e3cdbd4c"
      },
      "source": [
        "# 데이터 전처리\n",
        "x_train = x_train.reshape(-1, 28 * 28) / 255.0\n",
        "x_test = x_test.reshape(-1, 28 * 28) / 255.0\n",
        "\n",
        "x_train.shape"
      ],
      "execution_count": 41,
      "outputs": [
        {
          "output_type": "execute_result",
          "data": {
            "text/plain": [
              "(60000, 784)"
            ]
          },
          "metadata": {
            "tags": []
          },
          "execution_count": 41
        }
      ]
    },
    {
      "cell_type": "code",
      "metadata": {
        "id": "tJh7G1L2GGIO",
        "colab_type": "code",
        "colab": {
          "base_uri": "https://localhost:8080/",
          "height": 269
        },
        "outputId": "377c0bfa-8e46-4a19-9c27-01af1601eadd"
      },
      "source": [
        "# 오토인코더 모델 구성\n",
        "inputs = Input(shape=(784,))\n",
        "\n",
        "hidden = Dense(32, activation='relu')(inputs)\n",
        "\n",
        "outputs = Dense(784, activation='sigmoid')(hidden)\n",
        "\n",
        "auto_encoder = Model(inputs, outputs)\n",
        "auto_encoder.summary()"
      ],
      "execution_count": 42,
      "outputs": [
        {
          "output_type": "stream",
          "text": [
            "Model: \"functional_11\"\n",
            "_________________________________________________________________\n",
            "Layer (type)                 Output Shape              Param #   \n",
            "=================================================================\n",
            "input_9 (InputLayer)         [(None, 784)]             0         \n",
            "_________________________________________________________________\n",
            "dense_12 (Dense)             (None, 32)                25120     \n",
            "_________________________________________________________________\n",
            "dense_13 (Dense)             (None, 784)               25872     \n",
            "=================================================================\n",
            "Total params: 50,992\n",
            "Trainable params: 50,992\n",
            "Non-trainable params: 0\n",
            "_________________________________________________________________\n"
          ],
          "name": "stdout"
        }
      ]
    },
    {
      "cell_type": "code",
      "metadata": {
        "id": "Gw2TuNlEHdJW",
        "colab_type": "code",
        "colab": {}
      },
      "source": [
        "# 모델 설정하기\n",
        "auto_encoder.compile(optimizer='Adam', loss='binary_crossentropy')\n",
        "auto_encoder.fit(x_train, \n",
        "                 x_train, \n",
        "                 epochs=20, \n",
        "                 batch_size=256)"
      ],
      "execution_count": null,
      "outputs": []
    },
    {
      "cell_type": "code",
      "metadata": {
        "id": "1AZMVObaIW4E",
        "colab_type": "code",
        "colab": {
          "base_uri": "https://localhost:8080/",
          "height": 251
        },
        "outputId": "5d689e3f-33dc-4e82-d5dc-7be740e2e2d3"
      },
      "source": [
        "# 예측하기\n",
        "result = auto_encoder.predict(x_test)\n",
        "result"
      ],
      "execution_count": 44,
      "outputs": [
        {
          "output_type": "execute_result",
          "data": {
            "text/plain": [
              "array([[3.8879970e-09, 2.1166473e-09, 8.7718695e-09, ..., 3.0830163e-10,\n",
              "        1.9415780e-09, 6.3814216e-09],\n",
              "       [2.4482662e-11, 5.1549137e-10, 1.5071347e-10, ..., 3.5308804e-11,\n",
              "        8.3676177e-10, 2.1173770e-10],\n",
              "       [2.0596494e-06, 1.8268066e-06, 9.7940401e-06, ..., 5.6541257e-06,\n",
              "        6.1733599e-06, 5.5315249e-06],\n",
              "       ...,\n",
              "       [1.3105287e-13, 7.9568120e-14, 2.7067847e-12, ..., 4.8983861e-14,\n",
              "        2.1771767e-14, 7.4932519e-13],\n",
              "       [9.6212005e-12, 1.3025114e-10, 7.4972625e-11, ..., 8.1962544e-12,\n",
              "        1.8732318e-10, 8.7873681e-11],\n",
              "       [2.3532824e-17, 2.2337299e-15, 4.6343692e-16, ..., 3.5260847e-17,\n",
              "        2.8331063e-16, 3.8640025e-15]], dtype=float32)"
            ]
          },
          "metadata": {
            "tags": []
          },
          "execution_count": 44
        }
      ]
    },
    {
      "cell_type": "code",
      "metadata": {
        "id": "PsotKn1bIvRE",
        "colab_type": "code",
        "colab": {
          "base_uri": "https://localhost:8080/",
          "height": 264
        },
        "outputId": "2a442e82-3f01-4aaf-e628-26d17aad171c"
      },
      "source": [
        "# 예측값 이미지 출력\n",
        "plt.figure(figsize=(20, 4))\n",
        "\n",
        "for i in range(10):\n",
        "  # 오리지날 이미지\n",
        "  ax = plt.subplot(2, 10, i + 1)\n",
        "  ax.set_title('original Image')\n",
        "  plt.imshow(x_test[i].reshape(28, 28))\n",
        "  plt.gray()\n",
        "  ax.get_xaxis().set_visible(False)\n",
        "  ax.get_yaxis().set_visible(False)\n",
        "\n",
        "  # result image\n",
        "  ax = plt.subplot(2, 10, i + 11)\n",
        "  ax.set_title('result Image')\n",
        "  plt.imshow(result[i].reshape(28, 28))\n",
        "  plt.gray()\n",
        "  ax.get_xaxis().set_visible(False)\n",
        "  ax.get_yaxis().set_visible(False)"
      ],
      "execution_count": 46,
      "outputs": [
        {
          "output_type": "display_data",
          "data": {
            "image/png": "[encoded data removed]",
            "text/plain": [
              "<Figure size 1440x288 with 20 Axes>"
            ]
          },
          "metadata": {
            "tags": [],
            "needs_background": "light"
          }
        }
      ]
    }
  ]
}