{
  "nbformat": 4,
  "nbformat_minor": 0,
  "metadata": {
    "colab": {
      "name": "tf06_mnist_test.ipynb",
      "provenance": [],
      "collapsed_sections": [],
      "authorship_tag": "ABX9TyO9GIWDu3Qi0OsWYHXjKBuC",
      "include_colab_link": true
    },
    "kernelspec": {
      "name": "python3",
      "display_name": "Python 3"
    }
  },
  "cells": [
    {
      "cell_type": "markdown",
      "metadata": {
        "id": "view-in-github",
        "colab_type": "text"
      },
      "source": [
        "<a href=\"https://colab.research.google.com/github/fkrhtmq123/Tensorflow/blob/master/tf06_mnist_test.ipynb\" target=\"_parent\"><img src=\"https://colab.research.google.com/assets/colab-badge.svg\" alt=\"Open In Colab\"/></a>"
      ]
    },
    {
      "cell_type": "code",
      "metadata": {
        "id": "ALClB1pvG3cw",
        "colab_type": "code",
        "colab": {}
      },
      "source": [
        "\"\"\"\n",
        "  날짜 : 2020/08/19\n",
        "  이름 : 김동욱\n",
        "  내용 : 딥러닝 mnist 이미지 분류 실습\n",
        "\"\"\"\n",
        "import matplotlib.pyplot as plt\n",
        "import numpy as np\n",
        "from tensorflow.keras.datasets.mnist import load_data\n",
        "from tensorflow.keras.utils import to_categorical\n",
        "from tensorflow.keras.models import Sequential\n",
        "from tensorflow.keras.layers import Dense, Flatten\n",
        "from sklearn.model_selection import train_test_split\n",
        "from PIL import Image #파이썬 이미지 처리 라이브러리"
      ],
      "execution_count": null,
      "outputs": []
    },
    {
      "cell_type": "code",
      "metadata": {
        "id": "ecNwd662IMyu",
        "colab_type": "code",
        "colab": {
          "base_uri": "https://localhost:8080/",
          "height": 127
        },
        "outputId": "a4cb83ad-c595-4d92-93d1-934e74ebe622"
      },
      "source": [
        "#구글 드라이브 연동\n",
        "from google.colab import drive\n",
        "drive.mount('/content/drive')"
      ],
      "execution_count": null,
      "outputs": [
        {
          "output_type": "stream",
          "text": [
            "Go to this URL in a browser: https://accounts.google.com/o/oauth2/auth?client_id=947318989803-6bn6qk8qdgf4n4g3pfee6491hc0brc4i.apps.googleusercontent.com&redirect_uri=urn%3aietf%3awg%3aoauth%3a2.0%3aoob&scope=email%20https%3a%2f%2fwww.googleapis.com%2fauth%2fdocs.test%20https%3a%2f%2fwww.googleapis.com%2fauth%2fdrive%20https%3a%2f%2fwww.googleapis.com%2fauth%2fdrive.photos.readonly%20https%3a%2f%2fwww.googleapis.com%2fauth%2fpeopleapi.readonly&response_type=code\n",
            "\n",
            "Enter your authorization code:\n",
            "··········\n",
            "Mounted at /content/drive\n"
          ],
          "name": "stdout"
        }
      ]
    },
    {
      "cell_type": "code",
      "metadata": {
        "id": "bc2iZRSvIx2m",
        "colab_type": "code",
        "colab": {}
      },
      "source": [
        "#구글드라이브 이미지 로드하기\n",
        "img1 = Image.open('/content/drive/My Drive/Tensorflow_works/data/mnist_img1.jpg')\n",
        "img2 = Image.open('/content/drive/My Drive/Tensorflow_works/data/mnist_img2.jpg')\n",
        "img3 = Image.open('/content/drive/My Drive/Tensorflow_works/data/mnist_img3.jpg')\n",
        "img4 = Image.open('/content/drive/My Drive/Tensorflow_works/data/mnist_img4.jpg')\n",
        "img5 = Image.open('/content/drive/My Drive/Tensorflow_works/data/mnist_img5.jpg')\n",
        "\n",
        "#이미지 파일의 픽셀값 추출\n",
        "img1_px = np.array(img1)\n",
        "img2_px = np.array(img2)\n",
        "img3_px = np.array(img3)\n",
        "img4_px = np.array(img4)\n",
        "img5_px = np.array(img5)\n",
        "\n",
        "imgs = [img1_px, img2_px, img3_px, img4_px, img5_px]"
      ],
      "execution_count": null,
      "outputs": []
    },
    {
      "cell_type": "code",
      "metadata": {
        "id": "gtkwwlVNJNqp",
        "colab_type": "code",
        "colab": {
          "base_uri": "https://localhost:8080/",
          "height": 53
        },
        "outputId": "66108ce6-c007-4dcb-9e3a-db00ff08e9af"
      },
      "source": [
        "#학습데이터 로드\n",
        "(mnist_train_data, mnist_train_label), (mnist_test_data, mnist_test_label) = load_data()\n",
        "\n",
        "#데이터 형태 확인\n",
        "print(mnist_train_data.shape, mnist_train_label.shape)\n",
        "print(mnist_test_data.shape, mnist_test_label.shape)"
      ],
      "execution_count": null,
      "outputs": [
        {
          "output_type": "stream",
          "text": [
            "(60000, 28, 28) (60000,)\n",
            "(10000, 28, 28) (10000,)\n"
          ],
          "name": "stdout"
        }
      ]
    },
    {
      "cell_type": "code",
      "metadata": {
        "id": "GwsdritALHiU",
        "colab_type": "code",
        "colab": {
          "base_uri": "https://localhost:8080/",
          "height": 244
        },
        "outputId": "dcb0abf0-aa3a-42a3-d163-640fdcc34574"
      },
      "source": [
        "#데이터 샘플 이미지 출력\n",
        "random_idx = np.random.randint(60000, size=5)\n",
        "print(random_idx)\n",
        "\n",
        "plt.figure(figsize=(5, 5))\n",
        "\n",
        "for i, idx in enumerate(random_idx):\n",
        "  plt.subplot(3, 3, i + 1)\n",
        "  plt.xticks([])\n",
        "  plt.yticks([])\n",
        "  label = mnist_train_label[idx]\n",
        "  plt.imshow(mnist_train_data[idx, :])\n",
        "  plt.title('number is %d' % label)"
      ],
      "execution_count": null,
      "outputs": [
        {
          "output_type": "stream",
          "text": [
            "[23180 46354 24032 42728 24982]\n"
          ],
          "name": "stdout"
        },
        {
          "output_type": "display_data",
          "data": {
            "image/png": "[encoded data removed]",
            "text/plain": [
              "<Figure size 360x360 with 5 Axes>"
            ]
          },
          "metadata": {
            "tags": []
          }
        }
      ]
    },
    {
      "cell_type": "code",
      "metadata": {
        "id": "JWCHX1JjNWPp",
        "colab_type": "code",
        "colab": {}
      },
      "source": [
        "#데이터셋 분할하기\n",
        "train_data, test_data, train_label, test_label = train_test_split(mnist_train_data, mnist_train_label)\n",
        "print('훈련 데이터 : ', train_data.shape)\n",
        "print('검증 데이터 : ', test_data.shape)"
      ],
      "execution_count": null,
      "outputs": []
    },
    {
      "cell_type": "code",
      "metadata": {
        "id": "_qFbH0GUOD2q",
        "colab_type": "code",
        "colab": {}
      },
      "source": [
        "#모델학습을 위한 데이터 전처리(정규화)\n",
        "train_data = train_data / 255\n",
        "test_data = test_data / 255\n",
        "mnist_test_data = mnist_test_data / 255\n",
        "\n",
        "#각 데이터의 레이블을 범주형(One-hot encoding) 형태로 변환\n",
        "train_label = to_categorical(train_label)\n",
        "test_label = to_categorical(test_label)\n",
        "mnist_test_label = to_categorical(mnist_test_label)"
      ],
      "execution_count": null,
      "outputs": []
    },
    {
      "cell_type": "code",
      "metadata": {
        "id": "WEtXiy1TOphh",
        "colab_type": "code",
        "colab": {}
      },
      "source": [
        "#학습모델 구성하기\n",
        "model = Sequential()\n",
        "model.add(Flatten(input_shape = (28, 28))) #입력층\n",
        "model.add(Dense(64, activation='relu'))    #은닉층\n",
        "model.add(Dense(32, activation='relu'))    #은닉층\n",
        "model.add(Dense(10, activation='softmax')) #출력층"
      ],
      "execution_count": null,
      "outputs": []
    },
    {
      "cell_type": "code",
      "metadata": {
        "id": "wbIGSwTpQAbq",
        "colab_type": "code",
        "colab": {}
      },
      "source": [
        "#학습모델 설정하기\n",
        "model.compile(optimizer='Adam',\n",
        "              loss='categorical_crossentropy',\n",
        "              metrics=['acc'])"
      ],
      "execution_count": null,
      "outputs": []
    },
    {
      "cell_type": "code",
      "metadata": {
        "id": "xr9Piq47QQCJ",
        "colab_type": "code",
        "colab": {}
      },
      "source": [
        "# 모델 학습하기\n",
        "model.fit(train_data, \n",
        "          train_label, \n",
        "          epochs=30, \n",
        "          batch_size=128, \n",
        "          validation_data=(test_data, test_label))"
      ],
      "execution_count": null,
      "outputs": []
    },
    {
      "cell_type": "code",
      "metadata": {
        "id": "fD4NSFrqQrDB",
        "colab_type": "code",
        "colab": {
          "base_uri": "https://localhost:8080/",
          "height": 53
        },
        "outputId": "e3f51abe-e4ba-49f4-bd2c-6431546a4e64"
      },
      "source": [
        "#평가하기\n",
        "model.evaluate(mnist_test_data, mnist_test_label)"
      ],
      "execution_count": null,
      "outputs": [
        {
          "output_type": "stream",
          "text": [
            "313/313 [==============================] - 0s 921us/step - loss: 0.1319 - acc: 0.9723\n"
          ],
          "name": "stdout"
        },
        {
          "output_type": "execute_result",
          "data": {
            "text/plain": [
              "[0.13192032277584076, 0.9722999930381775]"
            ]
          },
          "metadata": {
            "tags": []
          },
          "execution_count": 52
        }
      ]
    },
    {
      "cell_type": "code",
      "metadata": {
        "id": "3XVGB1iNRHLS",
        "colab_type": "code",
        "colab": {
          "base_uri": "https://localhost:8080/",
          "height": 35
        },
        "outputId": "487f18db-fac0-40f9-f2a2-9bb6be10ec7e"
      },
      "source": [
        "result = model.predict(mnist_test_data)\n",
        "result.round()\n",
        "\n",
        "from sklearn.metrics import accuracy_score\n",
        "score = accuracy_score(result.round(), mnist_test_label)\n",
        "print('점수 : ', score )\n",
        "\n",
        "#result1 = model.predict(imgs)\n",
        "#print('result1 : ', result1)"
      ],
      "execution_count": null,
      "outputs": [
        {
          "output_type": "stream",
          "text": [
            "점수 :  0.9714\n"
          ],
          "name": "stdout"
        }
      ]
    }
  ]
}