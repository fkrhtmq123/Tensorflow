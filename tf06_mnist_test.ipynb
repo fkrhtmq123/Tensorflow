{
  "nbformat": 4,
  "nbformat_minor": 0,
  "metadata": {
    "colab": {
      "name": "tf06_mnist_test.ipynb",
      "provenance": [],
      "collapsed_sections": [],
      "authorship_tag": "ABX9TyPkdaLxNOFeJz6tPuc3GNoK",
      "include_colab_link": true
    },
    "kernelspec": {
      "name": "python3",
      "display_name": "Python 3"
    }
  },
  "cells": [
    {
      "cell_type": "markdown",
      "metadata": {
        "id": "view-in-github",
        "colab_type": "text"
      },
      "source": [
        "<a href=\"https://colab.research.google.com/github/fkrhtmq123/Tensorflow/blob/master/tf06_mnist_test.ipynb\" target=\"_parent\"><img src=\"https://colab.research.google.com/assets/colab-badge.svg\" alt=\"Open In Colab\"/></a>"
      ]
    },
    {
      "cell_type": "code",
      "metadata": {
        "id": "ALClB1pvG3cw",
        "colab_type": "code",
        "colab": {}
      },
      "source": [
        "\"\"\"\n",
        "  날짜 : 2020/08/19\n",
        "  이름 : 김동욱\n",
        "  내용 : 딥러닝 mnist 이미지 분류 실습\n",
        "\"\"\"\n",
        "import matplotlib.pyplot as plt\n",
        "import numpy as np\n",
        "from tensorflow.keras.datasets.mnist import load_data\n",
        "from tensorflow.keras.utils import to_categorical\n",
        "from tensorflow.keras.models import Sequential\n",
        "from tensorflow.keras.layers import Dense, Flatten\n",
        "from sklearn.model_selection import train_test_split\n",
        "from PIL import Image #파이썬 이미지 처리 라이브러리"
      ],
      "execution_count": 60,
      "outputs": []
    },
    {
      "cell_type": "code",
      "metadata": {
        "id": "ecNwd662IMyu",
        "colab_type": "code",
        "colab": {
          "base_uri": "https://localhost:8080/",
          "height": 127
        },
        "outputId": "a4cb83ad-c595-4d92-93d1-934e74ebe622"
      },
      "source": [
        "#구글 드라이브 연동\n",
        "from google.colab import drive\n",
        "drive.mount('/content/drive')"
      ],
      "execution_count": null,
      "outputs": [
        {
          "output_type": "stream",
          "text": [
            "Go to this URL in a browser: https://accounts.google.com/o/oauth2/auth?client_id=947318989803-6bn6qk8qdgf4n4g3pfee6491hc0brc4i.apps.googleusercontent.com&redirect_uri=urn%3aietf%3awg%3aoauth%3a2.0%3aoob&scope=email%20https%3a%2f%2fwww.googleapis.com%2fauth%2fdocs.test%20https%3a%2f%2fwww.googleapis.com%2fauth%2fdrive%20https%3a%2f%2fwww.googleapis.com%2fauth%2fdrive.photos.readonly%20https%3a%2f%2fwww.googleapis.com%2fauth%2fpeopleapi.readonly&response_type=code\n",
            "\n",
            "Enter your authorization code:\n",
            "··········\n",
            "Mounted at /content/drive\n"
          ],
          "name": "stdout"
        }
      ]
    },
    {
      "cell_type": "code",
      "metadata": {
        "id": "bc2iZRSvIx2m",
        "colab_type": "code",
        "colab": {
          "base_uri": "https://localhost:8080/",
          "height": 719
        },
        "outputId": "109c44c7-628a-476a-e484-8075762f6f2d"
      },
      "source": [
        "#구글드라이브 이미지 로드하기\n",
        "img1 = Image.open('/content/drive/My Drive/Tensorflow_works/data/mnist_img1.jpg')\n",
        "img2 = Image.open('/content/drive/My Drive/Tensorflow_works/data/mnist_img2.jpg')\n",
        "img3 = Image.open('/content/drive/My Drive/Tensorflow_works/data/mnist_img3.jpg')\n",
        "img4 = Image.open('/content/drive/My Drive/Tensorflow_works/data/mnist_img4.jpg')\n",
        "img5 = Image.open('/content/drive/My Drive/Tensorflow_works/data/mnist_img5.jpg')\n",
        "\n",
        "#이미지 파일의 픽셀값 추출\n",
        "img1_px = np.array(img1)\n",
        "img2_px = np.array(img2)\n",
        "img3_px = np.array(img3)\n",
        "img4_px = np.array(img4)\n",
        "img5_px = np.array(img5)\n",
        "\n",
        "img_arr = np.array([img1_px, img2_px, img3_px, img4_px, img5_px])\n",
        "img_arr = img_arr / 255.0\n",
        "img_arr"
      ],
      "execution_count": 63,
      "outputs": [
        {
          "output_type": "execute_result",
          "data": {
            "text/plain": [
              "array([[[0., 0., 0., ..., 0., 0., 0.],\n",
              "        [0., 0., 0., ..., 0., 0., 0.],\n",
              "        [0., 0., 0., ..., 0., 0., 0.],\n",
              "        ...,\n",
              "        [0., 0., 0., ..., 0., 0., 0.],\n",
              "        [0., 0., 0., ..., 0., 0., 0.],\n",
              "        [0., 0., 0., ..., 0., 0., 0.]],\n",
              "\n",
              "       [[0., 0., 0., ..., 0., 0., 0.],\n",
              "        [0., 0., 0., ..., 0., 0., 0.],\n",
              "        [0., 0., 0., ..., 0., 0., 0.],\n",
              "        ...,\n",
              "        [0., 0., 0., ..., 0., 0., 0.],\n",
              "        [0., 0., 0., ..., 0., 0., 0.],\n",
              "        [0., 0., 0., ..., 0., 0., 0.]],\n",
              "\n",
              "       [[0., 0., 0., ..., 0., 0., 0.],\n",
              "        [0., 0., 0., ..., 0., 0., 0.],\n",
              "        [0., 0., 0., ..., 0., 0., 0.],\n",
              "        ...,\n",
              "        [0., 0., 0., ..., 0., 0., 0.],\n",
              "        [0., 0., 0., ..., 0., 0., 0.],\n",
              "        [0., 0., 0., ..., 0., 0., 0.]],\n",
              "\n",
              "       [[0., 0., 0., ..., 0., 0., 0.],\n",
              "        [0., 0., 0., ..., 0., 0., 0.],\n",
              "        [0., 0., 0., ..., 0., 0., 0.],\n",
              "        ...,\n",
              "        [0., 0., 0., ..., 0., 0., 0.],\n",
              "        [0., 0., 0., ..., 0., 0., 0.],\n",
              "        [0., 0., 0., ..., 0., 0., 0.]],\n",
              "\n",
              "       [[0., 0., 0., ..., 0., 0., 0.],\n",
              "        [0., 0., 0., ..., 0., 0., 0.],\n",
              "        [0., 0., 0., ..., 0., 0., 0.],\n",
              "        ...,\n",
              "        [0., 0., 0., ..., 0., 0., 0.],\n",
              "        [0., 0., 0., ..., 0., 0., 0.],\n",
              "        [0., 0., 0., ..., 0., 0., 0.]]])"
            ]
          },
          "metadata": {
            "tags": []
          },
          "execution_count": 63
        }
      ]
    },
    {
      "cell_type": "code",
      "metadata": {
        "id": "gtkwwlVNJNqp",
        "colab_type": "code",
        "colab": {
          "base_uri": "https://localhost:8080/",
          "height": 53
        },
        "outputId": "ddd12755-49b8-4580-a749-a57592f3365b"
      },
      "source": [
        "#학습데이터 로드\n",
        "(mnist_train_data, mnist_train_label), (mnist_test_data, mnist_test_label) = load_data()\n",
        "\n",
        "#데이터 형태 확인\n",
        "print(mnist_train_data.shape, mnist_train_label.shape)\n",
        "print(mnist_test_data.shape, mnist_test_label.shape)"
      ],
      "execution_count": 64,
      "outputs": [
        {
          "output_type": "stream",
          "text": [
            "(60000, 28, 28) (60000,)\n",
            "(10000, 28, 28) (10000,)\n"
          ],
          "name": "stdout"
        }
      ]
    },
    {
      "cell_type": "code",
      "metadata": {
        "id": "GwsdritALHiU",
        "colab_type": "code",
        "colab": {
          "base_uri": "https://localhost:8080/",
          "height": 244
        },
        "outputId": "1c06d5bf-67f5-4123-c948-dc08d6fdcf8d"
      },
      "source": [
        "#데이터 샘플 이미지 출력\n",
        "random_idx = np.random.randint(60000, size=5)\n",
        "print(random_idx)\n",
        "\n",
        "plt.figure(figsize=(5, 5))\n",
        "\n",
        "for i, idx in enumerate(random_idx):\n",
        "  plt.subplot(3, 3, i + 1)\n",
        "  plt.xticks([])\n",
        "  plt.yticks([])\n",
        "  label = mnist_train_label[idx]\n",
        "  plt.imshow(mnist_train_data[idx, :])\n",
        "  plt.title('number is %d' % label)"
      ],
      "execution_count": 65,
      "outputs": [
        {
          "output_type": "stream",
          "text": [
            "[47668 53263  4320  8640 21420]\n"
          ],
          "name": "stdout"
        },
        {
          "output_type": "display_data",
          "data": {
            "image/png": "[encoded data removed]",
            "text/plain": [
              "<Figure size 360x360 with 5 Axes>"
            ]
          },
          "metadata": {
            "tags": []
          }
        }
      ]
    },
    {
      "cell_type": "code",
      "metadata": {
        "id": "JWCHX1JjNWPp",
        "colab_type": "code",
        "colab": {
          "base_uri": "https://localhost:8080/",
          "height": 53
        },
        "outputId": "6ada2180-51b6-4c21-e84c-40a5469bcd24"
      },
      "source": [
        "#데이터셋 분할하기\n",
        "train_data, test_data, train_label, test_label = train_test_split(mnist_train_data, mnist_train_label)\n",
        "print('훈련 데이터 : ', train_data.shape)\n",
        "print('검증 데이터 : ', test_data.shape)"
      ],
      "execution_count": 66,
      "outputs": [
        {
          "output_type": "stream",
          "text": [
            "훈련 데이터 :  (45000, 28, 28)\n",
            "검증 데이터 :  (15000, 28, 28)\n"
          ],
          "name": "stdout"
        }
      ]
    },
    {
      "cell_type": "code",
      "metadata": {
        "id": "_qFbH0GUOD2q",
        "colab_type": "code",
        "colab": {}
      },
      "source": [
        "#모델학습을 위한 데이터 전처리(정규화)\n",
        "train_data = train_data / 255\n",
        "test_data = test_data / 255\n",
        "mnist_test_data = mnist_test_data / 255\n",
        "\n",
        "#각 데이터의 레이블을 범주형(One-hot encoding) 형태로 변환\n",
        "train_label = to_categorical(train_label)\n",
        "test_label = to_categorical(test_label)\n",
        "mnist_test_label = to_categorical(mnist_test_label)"
      ],
      "execution_count": 67,
      "outputs": []
    },
    {
      "cell_type": "code",
      "metadata": {
        "id": "WEtXiy1TOphh",
        "colab_type": "code",
        "colab": {}
      },
      "source": [
        "#학습모델 구성하기\n",
        "model = Sequential()\n",
        "model.add(Flatten(input_shape = (28, 28))) #입력층\n",
        "model.add(Dense(64, activation='relu'))    #은닉층\n",
        "model.add(Dense(32, activation='relu'))    #은닉층\n",
        "model.add(Dense(10, activation='softmax')) #출력층"
      ],
      "execution_count": 68,
      "outputs": []
    },
    {
      "cell_type": "code",
      "metadata": {
        "id": "wbIGSwTpQAbq",
        "colab_type": "code",
        "colab": {}
      },
      "source": [
        "#학습모델 설정하기\n",
        "model.compile(optimizer='Adam',\n",
        "              loss='categorical_crossentropy',\n",
        "              metrics=['acc'])"
      ],
      "execution_count": 69,
      "outputs": []
    },
    {
      "cell_type": "code",
      "metadata": {
        "id": "xr9Piq47QQCJ",
        "colab_type": "code",
        "colab": {
          "base_uri": "https://localhost:8080/",
          "height": 1000
        },
        "outputId": "a262bc06-32f0-4f05-811a-af2baaf424f2"
      },
      "source": [
        "# 모델 학습하기\n",
        "model.fit(train_data, \n",
        "          train_label, \n",
        "          epochs=30, \n",
        "          batch_size=128, \n",
        "          validation_data=(test_data, test_label))"
      ],
      "execution_count": 70,
      "outputs": [
        {
          "output_type": "stream",
          "text": [
            "Epoch 1/30\n",
            "352/352 [==============================] - 1s 3ms/step - loss: 0.4967 - acc: 0.8542 - val_loss: 0.2482 - val_acc: 0.9274\n",
            "Epoch 2/30\n",
            "352/352 [==============================] - 1s 3ms/step - loss: 0.2047 - acc: 0.9414 - val_loss: 0.1837 - val_acc: 0.9472\n",
            "Epoch 3/30\n",
            "352/352 [==============================] - 1s 3ms/step - loss: 0.1527 - acc: 0.9554 - val_loss: 0.1623 - val_acc: 0.9527\n",
            "Epoch 4/30\n",
            "352/352 [==============================] - 1s 3ms/step - loss: 0.1240 - acc: 0.9635 - val_loss: 0.1377 - val_acc: 0.9613\n",
            "Epoch 5/30\n",
            "352/352 [==============================] - 1s 3ms/step - loss: 0.1028 - acc: 0.9691 - val_loss: 0.1375 - val_acc: 0.9587\n",
            "Epoch 6/30\n",
            "352/352 [==============================] - 1s 3ms/step - loss: 0.0874 - acc: 0.9735 - val_loss: 0.1264 - val_acc: 0.9632\n",
            "Epoch 7/30\n",
            "352/352 [==============================] - 1s 3ms/step - loss: 0.0762 - acc: 0.9769 - val_loss: 0.1145 - val_acc: 0.9663\n",
            "Epoch 8/30\n",
            "352/352 [==============================] - 1s 3ms/step - loss: 0.0663 - acc: 0.9796 - val_loss: 0.1097 - val_acc: 0.9671\n",
            "Epoch 9/30\n",
            "352/352 [==============================] - 1s 3ms/step - loss: 0.0574 - acc: 0.9822 - val_loss: 0.1107 - val_acc: 0.9683\n",
            "Epoch 10/30\n",
            "352/352 [==============================] - 1s 3ms/step - loss: 0.0501 - acc: 0.9850 - val_loss: 0.1139 - val_acc: 0.9663\n",
            "Epoch 11/30\n",
            "352/352 [==============================] - 1s 3ms/step - loss: 0.0438 - acc: 0.9870 - val_loss: 0.1136 - val_acc: 0.9659\n",
            "Epoch 12/30\n",
            "352/352 [==============================] - 1s 3ms/step - loss: 0.0387 - acc: 0.9891 - val_loss: 0.1168 - val_acc: 0.9664\n",
            "Epoch 13/30\n",
            "352/352 [==============================] - 1s 3ms/step - loss: 0.0337 - acc: 0.9900 - val_loss: 0.1153 - val_acc: 0.9671\n",
            "Epoch 14/30\n",
            "352/352 [==============================] - 1s 3ms/step - loss: 0.0294 - acc: 0.9919 - val_loss: 0.1130 - val_acc: 0.9697\n",
            "Epoch 15/30\n",
            "352/352 [==============================] - 1s 3ms/step - loss: 0.0263 - acc: 0.9925 - val_loss: 0.1195 - val_acc: 0.9687\n",
            "Epoch 16/30\n",
            "352/352 [==============================] - 1s 3ms/step - loss: 0.0240 - acc: 0.9932 - val_loss: 0.1205 - val_acc: 0.9683\n",
            "Epoch 17/30\n",
            "352/352 [==============================] - 1s 3ms/step - loss: 0.0212 - acc: 0.9940 - val_loss: 0.1229 - val_acc: 0.9689\n",
            "Epoch 18/30\n",
            "352/352 [==============================] - 1s 3ms/step - loss: 0.0163 - acc: 0.9960 - val_loss: 0.1216 - val_acc: 0.9690\n",
            "Epoch 19/30\n",
            "352/352 [==============================] - 1s 3ms/step - loss: 0.0175 - acc: 0.9950 - val_loss: 0.1264 - val_acc: 0.9694\n",
            "Epoch 20/30\n",
            "352/352 [==============================] - 1s 3ms/step - loss: 0.0157 - acc: 0.9956 - val_loss: 0.1265 - val_acc: 0.9692\n",
            "Epoch 21/30\n",
            "352/352 [==============================] - 1s 3ms/step - loss: 0.0128 - acc: 0.9969 - val_loss: 0.1255 - val_acc: 0.9697\n",
            "Epoch 22/30\n",
            "352/352 [==============================] - 1s 3ms/step - loss: 0.0108 - acc: 0.9975 - val_loss: 0.1344 - val_acc: 0.9687\n",
            "Epoch 23/30\n",
            "352/352 [==============================] - 1s 3ms/step - loss: 0.0133 - acc: 0.9962 - val_loss: 0.1359 - val_acc: 0.9687\n",
            "Epoch 24/30\n",
            "352/352 [==============================] - 1s 3ms/step - loss: 0.0092 - acc: 0.9978 - val_loss: 0.1292 - val_acc: 0.9706\n",
            "Epoch 25/30\n",
            "352/352 [==============================] - 1s 3ms/step - loss: 0.0076 - acc: 0.9984 - val_loss: 0.1408 - val_acc: 0.9685\n",
            "Epoch 26/30\n",
            "352/352 [==============================] - 1s 3ms/step - loss: 0.0073 - acc: 0.9986 - val_loss: 0.1399 - val_acc: 0.9689\n",
            "Epoch 27/30\n",
            "352/352 [==============================] - 1s 3ms/step - loss: 0.0071 - acc: 0.9983 - val_loss: 0.1499 - val_acc: 0.9691\n",
            "Epoch 28/30\n",
            "352/352 [==============================] - 1s 3ms/step - loss: 0.0109 - acc: 0.9966 - val_loss: 0.1614 - val_acc: 0.9679\n",
            "Epoch 29/30\n",
            "352/352 [==============================] - 1s 3ms/step - loss: 0.0104 - acc: 0.9969 - val_loss: 0.1456 - val_acc: 0.9706\n",
            "Epoch 30/30\n",
            "352/352 [==============================] - 1s 3ms/step - loss: 0.0048 - acc: 0.9989 - val_loss: 0.1572 - val_acc: 0.9698\n"
          ],
          "name": "stdout"
        },
        {
          "output_type": "execute_result",
          "data": {
            "text/plain": [
              "<tensorflow.python.keras.callbacks.History at 0x7fd15396cac8>"
            ]
          },
          "metadata": {
            "tags": []
          },
          "execution_count": 70
        }
      ]
    },
    {
      "cell_type": "code",
      "metadata": {
        "id": "fD4NSFrqQrDB",
        "colab_type": "code",
        "colab": {
          "base_uri": "https://localhost:8080/",
          "height": 53
        },
        "outputId": "76fbbfa9-9527-457a-8c59-3b25511ea071"
      },
      "source": [
        "#평가하기\n",
        "model.evaluate(mnist_test_data, mnist_test_label)"
      ],
      "execution_count": 71,
      "outputs": [
        {
          "output_type": "stream",
          "text": [
            "313/313 [==============================] - 0s 997us/step - loss: 0.1513 - acc: 0.9709\n"
          ],
          "name": "stdout"
        },
        {
          "output_type": "execute_result",
          "data": {
            "text/plain": [
              "[0.1512819528579712, 0.9708999991416931]"
            ]
          },
          "metadata": {
            "tags": []
          },
          "execution_count": 71
        }
      ]
    },
    {
      "cell_type": "code",
      "metadata": {
        "id": "3XVGB1iNRHLS",
        "colab_type": "code",
        "colab": {
          "base_uri": "https://localhost:8080/",
          "height": 143
        },
        "outputId": "842014fe-9b41-4564-bf35-52fbc8bb4719"
      },
      "source": [
        "result = model.predict(mnist_test_data)\n",
        "result.round()\n",
        "\n",
        "from sklearn.metrics import accuracy_score\n",
        "score = accuracy_score(result.round(), mnist_test_label)\n",
        "print('점수 : ', score )\n",
        "\n",
        "final_result = model.predict(img_arr)\n",
        "print('final_result')\n",
        "print(final_result.round())"
      ],
      "execution_count": 72,
      "outputs": [
        {
          "output_type": "stream",
          "text": [
            "점수 :  0.9703\n",
            "final_result\n",
            "[[0. 1. 0. 0. 0. 0. 0. 0. 0. 0.]\n",
            " [0. 0. 1. 0. 0. 0. 0. 0. 0. 0.]\n",
            " [0. 0. 0. 1. 0. 0. 0. 0. 0. 0.]\n",
            " [0. 0. 0. 0. 1. 0. 0. 0. 0. 0.]\n",
            " [0. 0. 0. 0. 0. 1. 0. 0. 0. 0.]]\n"
          ],
          "name": "stdout"
        }
      ]
    }
  ]
}