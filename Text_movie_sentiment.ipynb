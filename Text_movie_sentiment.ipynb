{
  "nbformat": 4,
  "nbformat_minor": 0,
  "metadata": {
    "colab": {
      "name": "Text_movie_sentiment.ipynb",
      "provenance": [],
      "collapsed_sections": [],
      "authorship_tag": "ABX9TyMbTF81iOQI4wNFq2QVuBMt",
      "include_colab_link": true
    },
    "kernelspec": {
      "name": "python3",
      "display_name": "Python 3"
    },
    "accelerator": "GPU"
  },
  "cells": [
    {
      "cell_type": "markdown",
      "metadata": {
        "id": "view-in-github",
        "colab_type": "text"
      },
      "source": [
        "<a href=\"https://colab.research.google.com/github/fkrhtmq123/Tensorflow/blob/master/Text_movie_sentiment.ipynb\" target=\"_parent\"><img src=\"https://colab.research.google.com/assets/colab-badge.svg\" alt=\"Open In Colab\"/></a>"
      ]
    },
    {
      "cell_type": "code",
      "metadata": {
        "id": "MbmJ4rJKdgi6",
        "colab_type": "code",
        "colab": {
          "base_uri": "https://localhost:8080/",
          "height": 35
        },
        "outputId": "0b0e6f6b-9213-452f-8832-763a549c72d6"
      },
      "source": [
        "# 구글 연동\n",
        "from google.colab import drive\n",
        "drive.mount('/content/drive')"
      ],
      "execution_count": 25,
      "outputs": [
        {
          "output_type": "stream",
          "text": [
            "Drive already mounted at /content/drive; to attempt to forcibly remount, call drive.mount(\"/content/drive\", force_remount=True).\n"
          ],
          "name": "stdout"
        }
      ]
    },
    {
      "cell_type": "code",
      "metadata": {
        "id": "VZ-aeJf7cG4s",
        "colab_type": "code",
        "colab": {}
      },
      "source": [
        "\"\"\"\n",
        "  날짜 : 2020/09/08\n",
        "  이름 : 김동욱\n",
        "  내용 : 영화 리뷰 감성 분석하기\n",
        "\"\"\"\n",
        "\n",
        "import codecs\n",
        "import numpy as np\n",
        "from tensorflow.keras.preprocessing import sequence\n",
        "from tensorflow.keras.preprocessing.text import Tokenizer\n",
        "from tensorflow.keras.preprocessing.sequence import pad_sequences\n",
        "from tensorflow.keras.models import Sequential\n",
        "from tensorflow.keras.layers import Dense, Embedding\n",
        "from tensorflow.keras.layers import LSTM"
      ],
      "execution_count": 29,
      "outputs": []
    },
    {
      "cell_type": "code",
      "metadata": {
        "id": "f_DGj9Fkdz94",
        "colab_type": "code",
        "colab": {}
      },
      "source": [
        "# 파일 로드 함수 정의\n",
        "def load_data(file):\n",
        "  result = []\n",
        "\n",
        "  with open(file, 'r', encoding='utf-8') as f:\n",
        "    lines = f.read().splitlines()\n",
        "\n",
        "    for line in lines:\n",
        "      data = line.split('\\t')\n",
        "      result.append(data)\n",
        "\n",
        "  result = result[1:] # header 정보 제외\n",
        "  return result"
      ],
      "execution_count": 30,
      "outputs": []
    },
    {
      "cell_type": "code",
      "metadata": {
        "id": "IyLNXkxorvy1",
        "colab_type": "code",
        "colab": {}
      },
      "source": [
        "# 데이터셋 생성 함수정의\n",
        "def make_dataset(train_data, test_data):\n",
        "  #학습용\n",
        "  train_x = []\n",
        "  train_y = []\n",
        "\n",
        "  for i in range(len(train_data)):\n",
        "    train_x.append(train_data[i][1])\n",
        "    train_y.append(int(train_data[i][2]))\n",
        "\n",
        "  #테스트용\n",
        "  test_x = []\n",
        "  test_y = []\n",
        "\n",
        "  for i in range(len(test_data)):\n",
        "    test_x.append(test_data[i][1])\n",
        "    test_y.append(int(test_data[i][2]))\n",
        "\n",
        "  # 최대 5000개의 단어를 갖는 단어사전 생성\n",
        "  tokenizer = Tokenizer(num_words=5000)\n",
        "  tokenizer.fit_on_texts(train_x)\n",
        "\n",
        "  # BOW 표기\n",
        "  token_train_x = tokenizer.texts_to_sequences(train_x)\n",
        "  token_test_x = tokenizer.texts_to_sequences(test_x)\n",
        "\n",
        "  return (token_train_x, train_y), (token_test_x, test_y)"
      ],
      "execution_count": 31,
      "outputs": []
    },
    {
      "cell_type": "code",
      "metadata": {
        "id": "Y0UZ5y0rkN4d",
        "colab_type": "code",
        "colab": {}
      },
      "source": [
        "# 데이터 셋 로드\n",
        "train_data = load_data('/content/drive/My Drive/Tensorflow_works/data/ratings_train.txt')\n",
        "test_data = load_data('/content/drive/My Drive/Tensorflow_works/data/ratings_test.txt')\n",
        "train_data"
      ],
      "execution_count": null,
      "outputs": []
    },
    {
      "cell_type": "code",
      "metadata": {
        "id": "AcAmGu3Okvux",
        "colab_type": "code",
        "colab": {}
      },
      "source": [
        "(train_x, train_y), (test_x, test_y) = make_dataset(train_data, test_data)"
      ],
      "execution_count": 33,
      "outputs": []
    },
    {
      "cell_type": "code",
      "metadata": {
        "id": "BYJV1fzGlkAY",
        "colab_type": "code",
        "colab": {
          "base_uri": "https://localhost:8080/",
          "height": 89
        },
        "outputId": "3c7c00c8-273d-42a8-9237-4b9d8f171bac"
      },
      "source": [
        "# 데이터 셋 확인\n",
        "print(train_x[0], train_y[0])\n",
        "print(train_x[1], train_y[1])\n",
        "print(test_x[0], test_y[0])\n",
        "print(test_x[49999], test_y[49999])"
      ],
      "execution_count": 34,
      "outputs": [
        {
          "output_type": "stream",
          "text": [
            "[23, 936, 4, 1097] 0\n",
            "[602] 1\n",
            "[639, 49] 1\n",
            "[56, 1376] 0\n"
          ],
          "name": "stdout"
        }
      ]
    },
    {
      "cell_type": "code",
      "metadata": {
        "id": "XK8x4jjlmYrd",
        "colab_type": "code",
        "colab": {
          "base_uri": "https://localhost:8080/",
          "height": 197
        },
        "outputId": "d5e9d894-52eb-4200-a080-3d06f04d66de"
      },
      "source": [
        "# 데이터 전처리\n",
        "train_x = sequence.pad_sequences(train_x, maxlen=100)\n",
        "test_x = sequence.pad_sequences(test_x, maxlen=100)\n",
        "\n",
        "train_y = np.array(train_y)\n",
        "test_y = np.array(test_y)\n",
        "\n",
        "train_x[0]"
      ],
      "execution_count": 36,
      "outputs": [
        {
          "output_type": "execute_result",
          "data": {
            "text/plain": [
              "array([   0,    0,    0,    0,    0,    0,    0,    0,    0,    0,    0,\n",
              "          0,    0,    0,    0,    0,    0,    0,    0,    0,    0,    0,\n",
              "          0,    0,    0,    0,    0,    0,    0,    0,    0,    0,    0,\n",
              "          0,    0,    0,    0,    0,    0,    0,    0,    0,    0,    0,\n",
              "          0,    0,    0,    0,    0,    0,    0,    0,    0,    0,    0,\n",
              "          0,    0,    0,    0,    0,    0,    0,    0,    0,    0,    0,\n",
              "          0,    0,    0,    0,    0,    0,    0,    0,    0,    0,    0,\n",
              "          0,    0,    0,    0,    0,    0,    0,    0,    0,    0,    0,\n",
              "          0,    0,    0,    0,    0,    0,    0,    0,   23,  936,    4,\n",
              "       1097], dtype=int32)"
            ]
          },
          "metadata": {
            "tags": []
          },
          "execution_count": 36
        }
      ]
    },
    {
      "cell_type": "code",
      "metadata": {
        "id": "zXtZJPK5nNQn",
        "colab_type": "code",
        "colab": {
          "base_uri": "https://localhost:8080/",
          "height": 269
        },
        "outputId": "9abb861e-993f-43d6-a139-96995cc74d18"
      },
      "source": [
        "# 모델 구성\n",
        "model = Sequential()\n",
        "model.add(Embedding(5000, 128))\n",
        "model.add(LSTM(128, dropout=0.2))\n",
        "model.add(Dense(1, activation='sigmoid'))\n",
        "\n",
        "model.summary()"
      ],
      "execution_count": 37,
      "outputs": [
        {
          "output_type": "stream",
          "text": [
            "Model: \"sequential\"\n",
            "_________________________________________________________________\n",
            "Layer (type)                 Output Shape              Param #   \n",
            "=================================================================\n",
            "embedding (Embedding)        (None, None, 128)         640000    \n",
            "_________________________________________________________________\n",
            "lstm (LSTM)                  (None, 128)               131584    \n",
            "_________________________________________________________________\n",
            "dense (Dense)                (None, 1)                 129       \n",
            "=================================================================\n",
            "Total params: 771,713\n",
            "Trainable params: 771,713\n",
            "Non-trainable params: 0\n",
            "_________________________________________________________________\n"
          ],
          "name": "stdout"
        }
      ]
    },
    {
      "cell_type": "code",
      "metadata": {
        "id": "N_nqw22wmZA3",
        "colab_type": "code",
        "colab": {}
      },
      "source": [
        "# 모델 설정\n",
        "model.compile(optimizer='adam',\n",
        "              loss='binary_crossentropy',\n",
        "              metrics=['acc'])"
      ],
      "execution_count": 38,
      "outputs": []
    },
    {
      "cell_type": "code",
      "metadata": {
        "id": "6f2587SWmY6d",
        "colab_type": "code",
        "colab": {
          "base_uri": "https://localhost:8080/",
          "height": 395
        },
        "outputId": "b9c59fda-dcc7-4526-d02a-34e2f498b037"
      },
      "source": [
        "# 모델 학습\n",
        "model.fit(train_x,\n",
        "          train_y,\n",
        "          batch_size = 128,\n",
        "          epochs = 10)"
      ],
      "execution_count": 39,
      "outputs": [
        {
          "output_type": "stream",
          "text": [
            "Epoch 1/10\n",
            "1172/1172 [==============================] - 20s 17ms/step - loss: 0.4493 - acc: 0.7675\n",
            "Epoch 2/10\n",
            "1172/1172 [==============================] - 20s 17ms/step - loss: 0.4039 - acc: 0.7928\n",
            "Epoch 3/10\n",
            "1172/1172 [==============================] - 20s 17ms/step - loss: 0.3864 - acc: 0.8013\n",
            "Epoch 4/10\n",
            "1172/1172 [==============================] - 20s 17ms/step - loss: 0.3714 - acc: 0.8086\n",
            "Epoch 5/10\n",
            "1172/1172 [==============================] - 20s 17ms/step - loss: 0.3592 - acc: 0.8131\n",
            "Epoch 6/10\n",
            "1172/1172 [==============================] - 20s 17ms/step - loss: 0.3471 - acc: 0.8194\n",
            "Epoch 7/10\n",
            "1172/1172 [==============================] - 20s 17ms/step - loss: 0.3347 - acc: 0.8250\n",
            "Epoch 8/10\n",
            "1172/1172 [==============================] - 20s 17ms/step - loss: 0.3210 - acc: 0.8318\n",
            "Epoch 9/10\n",
            "1172/1172 [==============================] - 20s 17ms/step - loss: 0.3083 - acc: 0.8373\n",
            "Epoch 10/10\n",
            "1172/1172 [==============================] - 20s 17ms/step - loss: 0.2939 - acc: 0.8445\n"
          ],
          "name": "stdout"
        },
        {
          "output_type": "execute_result",
          "data": {
            "text/plain": [
              "<tensorflow.python.keras.callbacks.History at 0x7fb418450cf8>"
            ]
          },
          "metadata": {
            "tags": []
          },
          "execution_count": 39
        }
      ]
    },
    {
      "cell_type": "code",
      "metadata": {
        "id": "IM6hKam_mYpP",
        "colab_type": "code",
        "colab": {
          "base_uri": "https://localhost:8080/",
          "height": 53
        },
        "outputId": "ec8bde8b-50a2-4071-e0eb-402277621e1b"
      },
      "source": [
        "# 모델 성능 확인\n",
        "result = model.evaluate(test_x, test_y, batch_size = 128)\n",
        "result"
      ],
      "execution_count": 40,
      "outputs": [
        {
          "output_type": "stream",
          "text": [
            "391/391 [==============================] - 2s 5ms/step - loss: 0.5360 - acc: 0.7689\n"
          ],
          "name": "stdout"
        },
        {
          "output_type": "execute_result",
          "data": {
            "text/plain": [
              "[0.5359945893287659, 0.7688800096511841]"
            ]
          },
          "metadata": {
            "tags": []
          },
          "execution_count": 40
        }
      ]
    },
    {
      "cell_type": "code",
      "metadata": {
        "id": "VNaVQPjxoGLY",
        "colab_type": "code",
        "colab": {
          "base_uri": "https://localhost:8080/",
          "height": 143
        },
        "outputId": "4d488c8f-49b4-4140-c19a-eb3e82f83c38"
      },
      "source": [
        "# 모델 저장\n",
        "model.save('/content/drive/My Drive/Tensorflow_works/model/review1.model')"
      ],
      "execution_count": 41,
      "outputs": [
        {
          "output_type": "stream",
          "text": [
            "WARNING:tensorflow:From /usr/local/lib/python3.6/dist-packages/tensorflow/python/training/tracking/tracking.py:111: Model.state_updates (from tensorflow.python.keras.engine.training) is deprecated and will be removed in a future version.\n",
            "Instructions for updating:\n",
            "This property should not be used in TensorFlow 2.0, as updates are applied automatically.\n",
            "WARNING:tensorflow:From /usr/local/lib/python3.6/dist-packages/tensorflow/python/training/tracking/tracking.py:111: Layer.updates (from tensorflow.python.keras.engine.base_layer) is deprecated and will be removed in a future version.\n",
            "Instructions for updating:\n",
            "This property should not be used in TensorFlow 2.0, as updates are applied automatically.\n",
            "INFO:tensorflow:Assets written to: /content/drive/My Drive/Tensorflow_works/model/review1.model/assets\n"
          ],
          "name": "stdout"
        }
      ]
    }
  ]
}